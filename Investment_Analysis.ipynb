{
 "cells": [
  {
   "cell_type": "markdown",
   "metadata": {
    "id": "gYsrt49qqOlv"
   },
   "source": [
    "Import necessary Libraries"
   ]
  },
  {
   "cell_type": "code",
   "execution_count": 1,
   "metadata": {
    "id": "fFJtCyCiKk9U"
   },
   "outputs": [],
   "source": [
    "import pandas as pd\n",
    "import numpy as np"
   ]
  },
  {
   "cell_type": "code",
   "execution_count": 2,
   "metadata": {
    "id": "JXtAJ0BS9-LW"
   },
   "outputs": [],
   "source": [
    "import matplotlib.pyplot as plt\n",
    "import seaborn as sns\n",
    "%matplotlib inline"
   ]
  },
  {
   "cell_type": "code",
   "execution_count": 4,
   "metadata": {},
   "outputs": [],
   "source": [
    "import chardet"
   ]
  },
  {
   "cell_type": "code",
   "execution_count": 8,
   "metadata": {},
   "outputs": [
    {
     "name": "stdout",
     "output_type": "stream",
     "text": [
      "{'encoding': 'ISO-8859-1', 'confidence': 0.73, 'language': ''}\n"
     ]
    }
   ],
   "source": [
    "with open(\"rounds2.csv\", 'rb') as rawdata:\n",
    "    result = chardet.detect(rawdata.read(10000))\n",
    "\n",
    "# check what the character encoding might be\n",
    "print(result)"
   ]
  },
  {
   "cell_type": "markdown",
   "metadata": {
    "id": "rI0bKQ4HqUat"
   },
   "source": [
    "Load round 2 data"
   ]
  },
  {
   "cell_type": "code",
   "execution_count": 12,
   "metadata": {},
   "outputs": [],
   "source": [
    "r2=pd.read_csv('rounds2.csv',encoding= 'ISO-8859-1')"
   ]
  },
  {
   "cell_type": "code",
   "execution_count": 13,
   "metadata": {},
   "outputs": [
    {
     "name": "stdout",
     "output_type": "stream",
     "text": [
      "<class 'pandas.core.frame.DataFrame'>\n",
      "RangeIndex: 114949 entries, 0 to 114948\n",
      "Data columns (total 6 columns):\n",
      "company_permalink          114949 non-null object\n",
      "funding_round_permalink    114949 non-null object\n",
      "funding_round_type         114949 non-null object\n",
      "funding_round_code         31140 non-null object\n",
      "funded_at                  114949 non-null object\n",
      "raised_amount_usd          94959 non-null float64\n",
      "dtypes: float64(1), object(5)\n",
      "memory usage: 5.3+ MB\n"
     ]
    }
   ],
   "source": [
    "r2.info()"
   ]
  },
  {
   "cell_type": "code",
   "execution_count": 9,
   "metadata": {
    "id": "6ltKcWVeLvsY"
   },
   "outputs": [],
   "source": [
    "round2=pd.read_csv('rounds2.csv',encoding= 'unicode_escape')"
   ]
  },
  {
   "cell_type": "code",
   "execution_count": 11,
   "metadata": {},
   "outputs": [
    {
     "name": "stdout",
     "output_type": "stream",
     "text": [
      "<class 'pandas.core.frame.DataFrame'>\n",
      "RangeIndex: 114949 entries, 0 to 114948\n",
      "Data columns (total 6 columns):\n",
      "company_permalink          114949 non-null object\n",
      "funding_round_permalink    114949 non-null object\n",
      "funding_round_type         114949 non-null object\n",
      "funding_round_code         31140 non-null object\n",
      "funded_at                  114949 non-null object\n",
      "raised_amount_usd          94959 non-null float64\n",
      "dtypes: float64(1), object(5)\n",
      "memory usage: 5.3+ MB\n"
     ]
    }
   ],
   "source": [
    "round2.info()"
   ]
  },
  {
   "cell_type": "markdown",
   "metadata": {
    "id": "oteRKJUaqYgJ"
   },
   "source": [
    "\n",
    "\n",
    "```\n",
    "Check the head to get overview of round 2 data\n",
    "```\n",
    "\n"
   ]
  },
  {
   "cell_type": "code",
   "execution_count": 4,
   "metadata": {
    "colab": {
     "base_uri": "https://localhost:8080/",
     "height": 204
    },
    "id": "SN9zn5b6P2X-",
    "outputId": "d3838eed-42a5-4fe7-c0c1-65156f0e3f39"
   },
   "outputs": [
    {
     "data": {
      "text/html": [
       "<div>\n",
       "<style scoped>\n",
       "    .dataframe tbody tr th:only-of-type {\n",
       "        vertical-align: middle;\n",
       "    }\n",
       "\n",
       "    .dataframe tbody tr th {\n",
       "        vertical-align: top;\n",
       "    }\n",
       "\n",
       "    .dataframe thead th {\n",
       "        text-align: right;\n",
       "    }\n",
       "</style>\n",
       "<table border=\"1\" class=\"dataframe\">\n",
       "  <thead>\n",
       "    <tr style=\"text-align: right;\">\n",
       "      <th></th>\n",
       "      <th>company_permalink</th>\n",
       "      <th>funding_round_permalink</th>\n",
       "      <th>funding_round_type</th>\n",
       "      <th>funding_round_code</th>\n",
       "      <th>funded_at</th>\n",
       "      <th>raised_amount_usd</th>\n",
       "    </tr>\n",
       "  </thead>\n",
       "  <tbody>\n",
       "    <tr>\n",
       "      <th>0</th>\n",
       "      <td>/organization/-fame</td>\n",
       "      <td>/funding-round/9a01d05418af9f794eebff7ace91f638</td>\n",
       "      <td>venture</td>\n",
       "      <td>B</td>\n",
       "      <td>05-01-2015</td>\n",
       "      <td>10000000.0</td>\n",
       "    </tr>\n",
       "    <tr>\n",
       "      <th>1</th>\n",
       "      <td>/ORGANIZATION/-QOUNTER</td>\n",
       "      <td>/funding-round/22dacff496eb7acb2b901dec1dfe5633</td>\n",
       "      <td>venture</td>\n",
       "      <td>A</td>\n",
       "      <td>14-10-2014</td>\n",
       "      <td>NaN</td>\n",
       "    </tr>\n",
       "    <tr>\n",
       "      <th>2</th>\n",
       "      <td>/organization/-qounter</td>\n",
       "      <td>/funding-round/b44fbb94153f6cdef13083530bb48030</td>\n",
       "      <td>seed</td>\n",
       "      <td>NaN</td>\n",
       "      <td>01-03-2014</td>\n",
       "      <td>700000.0</td>\n",
       "    </tr>\n",
       "    <tr>\n",
       "      <th>3</th>\n",
       "      <td>/ORGANIZATION/-THE-ONE-OF-THEM-INC-</td>\n",
       "      <td>/funding-round/650b8f704416801069bb178a1418776b</td>\n",
       "      <td>venture</td>\n",
       "      <td>B</td>\n",
       "      <td>30-01-2014</td>\n",
       "      <td>3406878.0</td>\n",
       "    </tr>\n",
       "    <tr>\n",
       "      <th>4</th>\n",
       "      <td>/organization/0-6-com</td>\n",
       "      <td>/funding-round/5727accaeaa57461bd22a9bdd945382d</td>\n",
       "      <td>venture</td>\n",
       "      <td>A</td>\n",
       "      <td>19-03-2008</td>\n",
       "      <td>2000000.0</td>\n",
       "    </tr>\n",
       "  </tbody>\n",
       "</table>\n",
       "</div>"
      ],
      "text/plain": [
       "                     company_permalink  \\\n",
       "0                  /organization/-fame   \n",
       "1               /ORGANIZATION/-QOUNTER   \n",
       "2               /organization/-qounter   \n",
       "3  /ORGANIZATION/-THE-ONE-OF-THEM-INC-   \n",
       "4                /organization/0-6-com   \n",
       "\n",
       "                           funding_round_permalink funding_round_type  \\\n",
       "0  /funding-round/9a01d05418af9f794eebff7ace91f638            venture   \n",
       "1  /funding-round/22dacff496eb7acb2b901dec1dfe5633            venture   \n",
       "2  /funding-round/b44fbb94153f6cdef13083530bb48030               seed   \n",
       "3  /funding-round/650b8f704416801069bb178a1418776b            venture   \n",
       "4  /funding-round/5727accaeaa57461bd22a9bdd945382d            venture   \n",
       "\n",
       "  funding_round_code   funded_at  raised_amount_usd  \n",
       "0                  B  05-01-2015         10000000.0  \n",
       "1                  A  14-10-2014                NaN  \n",
       "2                NaN  01-03-2014           700000.0  \n",
       "3                  B  30-01-2014          3406878.0  \n",
       "4                  A  19-03-2008          2000000.0  "
      ]
     },
     "execution_count": 4,
     "metadata": {},
     "output_type": "execute_result"
    }
   ],
   "source": [
    "round2.head(5)"
   ]
  },
  {
   "cell_type": "markdown",
   "metadata": {
    "id": "xWC3MoORqkNd"
   },
   "source": [
    "Set data type of funded at to date time\n"
   ]
  },
  {
   "cell_type": "code",
   "execution_count": 5,
   "metadata": {
    "id": "CecfS6DFQNN0"
   },
   "outputs": [],
   "source": [
    "round2['funded_at']=pd.to_datetime(round2['funded_at'])"
   ]
  },
  {
   "cell_type": "code",
   "execution_count": 6,
   "metadata": {
    "colab": {
     "base_uri": "https://localhost:8080/"
    },
    "id": "bsF3QonaL05J",
    "outputId": "a574b2dc-1311-4b6b-8a81-77413e01db4d"
   },
   "outputs": [
    {
     "data": {
      "text/plain": [
       "company_permalink                  object\n",
       "funding_round_permalink            object\n",
       "funding_round_type                 object\n",
       "funding_round_code                 object\n",
       "funded_at                  datetime64[ns]\n",
       "raised_amount_usd                 float64\n",
       "dtype: object"
      ]
     },
     "execution_count": 6,
     "metadata": {},
     "output_type": "execute_result"
    }
   ],
   "source": [
    "round2.dtypes"
   ]
  },
  {
   "cell_type": "markdown",
   "metadata": {
    "id": "f9jpLxUoqvo6"
   },
   "source": [
    "Load companies data "
   ]
  },
  {
   "cell_type": "code",
   "execution_count": 8,
   "metadata": {
    "id": "Apu2e1lqQ9wy"
   },
   "outputs": [],
   "source": [
    "companies=pd.read_csv('companies.csv',encoding= 'unicode_escape')"
   ]
  },
  {
   "cell_type": "markdown",
   "metadata": {
    "id": "QbXU_Yt7q0fb"
   },
   "source": [
    "Check head"
   ]
  },
  {
   "cell_type": "code",
   "execution_count": 9,
   "metadata": {
    "colab": {
     "base_uri": "https://localhost:8080/",
     "height": 255
    },
    "id": "e0WspGwZlEo_",
    "outputId": "1f7a8dc3-1249-4bb5-b6e7-d54b2d855023"
   },
   "outputs": [
    {
     "data": {
      "text/html": [
       "<div>\n",
       "<style scoped>\n",
       "    .dataframe tbody tr th:only-of-type {\n",
       "        vertical-align: middle;\n",
       "    }\n",
       "\n",
       "    .dataframe tbody tr th {\n",
       "        vertical-align: top;\n",
       "    }\n",
       "\n",
       "    .dataframe thead th {\n",
       "        text-align: right;\n",
       "    }\n",
       "</style>\n",
       "<table border=\"1\" class=\"dataframe\">\n",
       "  <thead>\n",
       "    <tr style=\"text-align: right;\">\n",
       "      <th></th>\n",
       "      <th>permalink</th>\n",
       "      <th>name</th>\n",
       "      <th>homepage_url</th>\n",
       "      <th>category_list</th>\n",
       "      <th>status</th>\n",
       "      <th>country_code</th>\n",
       "      <th>state_code</th>\n",
       "      <th>region</th>\n",
       "      <th>city</th>\n",
       "      <th>founded_at</th>\n",
       "    </tr>\n",
       "  </thead>\n",
       "  <tbody>\n",
       "    <tr>\n",
       "      <th>0</th>\n",
       "      <td>/Organization/-Fame</td>\n",
       "      <td>#fame</td>\n",
       "      <td>http://livfame.com</td>\n",
       "      <td>Media</td>\n",
       "      <td>operating</td>\n",
       "      <td>IND</td>\n",
       "      <td>16</td>\n",
       "      <td>Mumbai</td>\n",
       "      <td>Mumbai</td>\n",
       "      <td>NaN</td>\n",
       "    </tr>\n",
       "    <tr>\n",
       "      <th>1</th>\n",
       "      <td>/Organization/-Qounter</td>\n",
       "      <td>:Qounter</td>\n",
       "      <td>http://www.qounter.com</td>\n",
       "      <td>Application Platforms|Real Time|Social Network...</td>\n",
       "      <td>operating</td>\n",
       "      <td>USA</td>\n",
       "      <td>DE</td>\n",
       "      <td>DE - Other</td>\n",
       "      <td>Delaware City</td>\n",
       "      <td>04-09-2014</td>\n",
       "    </tr>\n",
       "    <tr>\n",
       "      <th>2</th>\n",
       "      <td>/Organization/-The-One-Of-Them-Inc-</td>\n",
       "      <td>(THE) ONE of THEM,Inc.</td>\n",
       "      <td>http://oneofthem.jp</td>\n",
       "      <td>Apps|Games|Mobile</td>\n",
       "      <td>operating</td>\n",
       "      <td>NaN</td>\n",
       "      <td>NaN</td>\n",
       "      <td>NaN</td>\n",
       "      <td>NaN</td>\n",
       "      <td>NaN</td>\n",
       "    </tr>\n",
       "    <tr>\n",
       "      <th>3</th>\n",
       "      <td>/Organization/0-6-Com</td>\n",
       "      <td>0-6.com</td>\n",
       "      <td>http://www.0-6.com</td>\n",
       "      <td>Curated Web</td>\n",
       "      <td>operating</td>\n",
       "      <td>CHN</td>\n",
       "      <td>22</td>\n",
       "      <td>Beijing</td>\n",
       "      <td>Beijing</td>\n",
       "      <td>01-01-2007</td>\n",
       "    </tr>\n",
       "    <tr>\n",
       "      <th>4</th>\n",
       "      <td>/Organization/004-Technologies</td>\n",
       "      <td>004 Technologies</td>\n",
       "      <td>http://004gmbh.de/en/004-interact</td>\n",
       "      <td>Software</td>\n",
       "      <td>operating</td>\n",
       "      <td>USA</td>\n",
       "      <td>IL</td>\n",
       "      <td>Springfield, Illinois</td>\n",
       "      <td>Champaign</td>\n",
       "      <td>01-01-2010</td>\n",
       "    </tr>\n",
       "  </tbody>\n",
       "</table>\n",
       "</div>"
      ],
      "text/plain": [
       "                             permalink                    name  \\\n",
       "0                  /Organization/-Fame                   #fame   \n",
       "1               /Organization/-Qounter                :Qounter   \n",
       "2  /Organization/-The-One-Of-Them-Inc-  (THE) ONE of THEM,Inc.   \n",
       "3                /Organization/0-6-Com                 0-6.com   \n",
       "4       /Organization/004-Technologies        004 Technologies   \n",
       "\n",
       "                        homepage_url  \\\n",
       "0                 http://livfame.com   \n",
       "1             http://www.qounter.com   \n",
       "2                http://oneofthem.jp   \n",
       "3                 http://www.0-6.com   \n",
       "4  http://004gmbh.de/en/004-interact   \n",
       "\n",
       "                                       category_list     status country_code  \\\n",
       "0                                              Media  operating          IND   \n",
       "1  Application Platforms|Real Time|Social Network...  operating          USA   \n",
       "2                                  Apps|Games|Mobile  operating          NaN   \n",
       "3                                        Curated Web  operating          CHN   \n",
       "4                                           Software  operating          USA   \n",
       "\n",
       "  state_code                 region           city  founded_at  \n",
       "0         16                 Mumbai         Mumbai         NaN  \n",
       "1         DE             DE - Other  Delaware City  04-09-2014  \n",
       "2        NaN                    NaN            NaN         NaN  \n",
       "3         22                Beijing        Beijing  01-01-2007  \n",
       "4         IL  Springfield, Illinois      Champaign  01-01-2010  "
      ]
     },
     "execution_count": 9,
     "metadata": {},
     "output_type": "execute_result"
    }
   ],
   "source": [
    "companies.head(5)"
   ]
  },
  {
   "cell_type": "markdown",
   "metadata": {
    "id": "1cpXrj-1rE0I"
   },
   "source": [
    "Number of Unique company ids /companies in roud2 data"
   ]
  },
  {
   "cell_type": "code",
   "execution_count": 10,
   "metadata": {
    "colab": {
     "base_uri": "https://localhost:8080/"
    },
    "id": "8fuIlNFOlP6i",
    "outputId": "a51bfcc6-509a-4b0d-90ec-33efe8af0703"
   },
   "outputs": [
    {
     "data": {
      "text/plain": [
       "90247"
      ]
     },
     "execution_count": 10,
     "metadata": {},
     "output_type": "execute_result"
    }
   ],
   "source": [
    "round2['company_permalink'].nunique()"
   ]
  },
  {
   "cell_type": "markdown",
   "metadata": {
    "id": "G6B1vqpCrHWV"
   },
   "source": [
    "Number of Unique company ids /companies in Companies data"
   ]
  },
  {
   "cell_type": "code",
   "execution_count": 12,
   "metadata": {
    "colab": {
     "base_uri": "https://localhost:8080/"
    },
    "id": "jqlY--Y9loDA",
    "outputId": "fd4acab7-0718-4586-97c4-e263f9daca31"
   },
   "outputs": [
    {
     "data": {
      "text/plain": [
       "66368"
      ]
     },
     "execution_count": 12,
     "metadata": {},
     "output_type": "execute_result"
    }
   ],
   "source": [
    "companies['permalink'].nunique()"
   ]
  },
  {
   "cell_type": "markdown",
   "metadata": {
    "id": "0Z4D_zzCrPwR"
   },
   "source": [
    "Since the numbers doesn't match, it can be concluded that the numeber of unique companies in both dataa are not same."
   ]
  },
  {
   "cell_type": "code",
   "execution_count": 13,
   "metadata": {
    "colab": {
     "base_uri": "https://localhost:8080/"
    },
    "id": "TbpEEoCBplnK",
    "outputId": "d5f8b3a0-8d37-4930-95ac-257493742192"
   },
   "outputs": [
    {
     "data": {
      "text/plain": [
       "company_permalink              0\n",
       "funding_round_permalink        0\n",
       "funding_round_type             0\n",
       "funding_round_code         83809\n",
       "funded_at                      0\n",
       "raised_amount_usd          19990\n",
       "dtype: int64"
      ]
     },
     "execution_count": 13,
     "metadata": {},
     "output_type": "execute_result"
    }
   ],
   "source": [
    "round2.isnull().sum()"
   ]
  },
  {
   "cell_type": "code",
   "execution_count": 14,
   "metadata": {
    "colab": {
     "base_uri": "https://localhost:8080/"
    },
    "id": "4llz4H33q4XT",
    "outputId": "9d11020f-cf59-4d39-9ce5-3133f6b88437"
   },
   "outputs": [
    {
     "data": {
      "text/plain": [
       "permalink            0\n",
       "name                 1\n",
       "homepage_url      5058\n",
       "category_list     3148\n",
       "status               0\n",
       "country_code      6958\n",
       "state_code        8547\n",
       "region            8030\n",
       "city              8028\n",
       "founded_at       15221\n",
       "dtype: int64"
      ]
     },
     "execution_count": 14,
     "metadata": {},
     "output_type": "execute_result"
    }
   ],
   "source": [
    "companies.isnull().sum()"
   ]
  },
  {
   "cell_type": "markdown",
   "metadata": {
    "id": "g9Ahg0mo1CA1"
   },
   "source": [
    "Rename \"Permalink\" in companies to \"company_permalink\" so that they can be merged. "
   ]
  },
  {
   "cell_type": "code",
   "execution_count": 15,
   "metadata": {
    "id": "NeyQpHxsyP4m"
   },
   "outputs": [],
   "source": [
    "companies.rename(columns = {'permalink':'company_permalink'}, inplace = True)"
   ]
  },
  {
   "cell_type": "markdown",
   "metadata": {
    "id": "bF8PVBH91aTe"
   },
   "source": [
    "Check the head"
   ]
  },
  {
   "cell_type": "code",
   "execution_count": 16,
   "metadata": {
    "colab": {
     "base_uri": "https://localhost:8080/",
     "height": 255
    },
    "id": "F0QbFG1Wycn5",
    "outputId": "9ec75479-aa8c-448e-d932-18ee72705a77"
   },
   "outputs": [
    {
     "data": {
      "text/html": [
       "<div>\n",
       "<style scoped>\n",
       "    .dataframe tbody tr th:only-of-type {\n",
       "        vertical-align: middle;\n",
       "    }\n",
       "\n",
       "    .dataframe tbody tr th {\n",
       "        vertical-align: top;\n",
       "    }\n",
       "\n",
       "    .dataframe thead th {\n",
       "        text-align: right;\n",
       "    }\n",
       "</style>\n",
       "<table border=\"1\" class=\"dataframe\">\n",
       "  <thead>\n",
       "    <tr style=\"text-align: right;\">\n",
       "      <th></th>\n",
       "      <th>company_permalink</th>\n",
       "      <th>name</th>\n",
       "      <th>homepage_url</th>\n",
       "      <th>category_list</th>\n",
       "      <th>status</th>\n",
       "      <th>country_code</th>\n",
       "      <th>state_code</th>\n",
       "      <th>region</th>\n",
       "      <th>city</th>\n",
       "      <th>founded_at</th>\n",
       "    </tr>\n",
       "  </thead>\n",
       "  <tbody>\n",
       "    <tr>\n",
       "      <th>0</th>\n",
       "      <td>/Organization/-Fame</td>\n",
       "      <td>#fame</td>\n",
       "      <td>http://livfame.com</td>\n",
       "      <td>Media</td>\n",
       "      <td>operating</td>\n",
       "      <td>IND</td>\n",
       "      <td>16</td>\n",
       "      <td>Mumbai</td>\n",
       "      <td>Mumbai</td>\n",
       "      <td>NaN</td>\n",
       "    </tr>\n",
       "    <tr>\n",
       "      <th>1</th>\n",
       "      <td>/Organization/-Qounter</td>\n",
       "      <td>:Qounter</td>\n",
       "      <td>http://www.qounter.com</td>\n",
       "      <td>Application Platforms|Real Time|Social Network...</td>\n",
       "      <td>operating</td>\n",
       "      <td>USA</td>\n",
       "      <td>DE</td>\n",
       "      <td>DE - Other</td>\n",
       "      <td>Delaware City</td>\n",
       "      <td>04-09-2014</td>\n",
       "    </tr>\n",
       "    <tr>\n",
       "      <th>2</th>\n",
       "      <td>/Organization/-The-One-Of-Them-Inc-</td>\n",
       "      <td>(THE) ONE of THEM,Inc.</td>\n",
       "      <td>http://oneofthem.jp</td>\n",
       "      <td>Apps|Games|Mobile</td>\n",
       "      <td>operating</td>\n",
       "      <td>NaN</td>\n",
       "      <td>NaN</td>\n",
       "      <td>NaN</td>\n",
       "      <td>NaN</td>\n",
       "      <td>NaN</td>\n",
       "    </tr>\n",
       "    <tr>\n",
       "      <th>3</th>\n",
       "      <td>/Organization/0-6-Com</td>\n",
       "      <td>0-6.com</td>\n",
       "      <td>http://www.0-6.com</td>\n",
       "      <td>Curated Web</td>\n",
       "      <td>operating</td>\n",
       "      <td>CHN</td>\n",
       "      <td>22</td>\n",
       "      <td>Beijing</td>\n",
       "      <td>Beijing</td>\n",
       "      <td>01-01-2007</td>\n",
       "    </tr>\n",
       "    <tr>\n",
       "      <th>4</th>\n",
       "      <td>/Organization/004-Technologies</td>\n",
       "      <td>004 Technologies</td>\n",
       "      <td>http://004gmbh.de/en/004-interact</td>\n",
       "      <td>Software</td>\n",
       "      <td>operating</td>\n",
       "      <td>USA</td>\n",
       "      <td>IL</td>\n",
       "      <td>Springfield, Illinois</td>\n",
       "      <td>Champaign</td>\n",
       "      <td>01-01-2010</td>\n",
       "    </tr>\n",
       "  </tbody>\n",
       "</table>\n",
       "</div>"
      ],
      "text/plain": [
       "                     company_permalink                    name  \\\n",
       "0                  /Organization/-Fame                   #fame   \n",
       "1               /Organization/-Qounter                :Qounter   \n",
       "2  /Organization/-The-One-Of-Them-Inc-  (THE) ONE of THEM,Inc.   \n",
       "3                /Organization/0-6-Com                 0-6.com   \n",
       "4       /Organization/004-Technologies        004 Technologies   \n",
       "\n",
       "                        homepage_url  \\\n",
       "0                 http://livfame.com   \n",
       "1             http://www.qounter.com   \n",
       "2                http://oneofthem.jp   \n",
       "3                 http://www.0-6.com   \n",
       "4  http://004gmbh.de/en/004-interact   \n",
       "\n",
       "                                       category_list     status country_code  \\\n",
       "0                                              Media  operating          IND   \n",
       "1  Application Platforms|Real Time|Social Network...  operating          USA   \n",
       "2                                  Apps|Games|Mobile  operating          NaN   \n",
       "3                                        Curated Web  operating          CHN   \n",
       "4                                           Software  operating          USA   \n",
       "\n",
       "  state_code                 region           city  founded_at  \n",
       "0         16                 Mumbai         Mumbai         NaN  \n",
       "1         DE             DE - Other  Delaware City  04-09-2014  \n",
       "2        NaN                    NaN            NaN         NaN  \n",
       "3         22                Beijing        Beijing  01-01-2007  \n",
       "4         IL  Springfield, Illinois      Champaign  01-01-2010  "
      ]
     },
     "execution_count": 16,
     "metadata": {},
     "output_type": "execute_result"
    }
   ],
   "source": [
    "companies.head()"
   ]
  },
  {
   "cell_type": "markdown",
   "metadata": {
    "id": "j5_YPX_w1i98"
   },
   "source": [
    "The variable Round2 and Companies company_permalink column are not in same cases. Merging won't return any rows. So, make them all lower and then merge."
   ]
  },
  {
   "cell_type": "code",
   "execution_count": 17,
   "metadata": {
    "id": "mwkSq6s1z7ak"
   },
   "outputs": [],
   "source": [
    "round2['company_permalink']=round2['company_permalink'].str.strip().str.lower()"
   ]
  },
  {
   "cell_type": "code",
   "execution_count": 18,
   "metadata": {
    "id": "HlTIQ2-ozWh5"
   },
   "outputs": [],
   "source": [
    "companies['company_permalink']=companies['company_permalink'].str.strip().str.lower()"
   ]
  },
  {
   "cell_type": "markdown",
   "metadata": {
    "id": "I4qTJUI02XCW"
   },
   "source": [
    "Check the heads to confirm changes are effective"
   ]
  },
  {
   "cell_type": "code",
   "execution_count": 19,
   "metadata": {
    "colab": {
     "base_uri": "https://localhost:8080/",
     "height": 255
    },
    "id": "MyXLhNPh0Kyv",
    "outputId": "55c873c2-ac6d-4216-a1be-da395e12f565"
   },
   "outputs": [
    {
     "data": {
      "text/html": [
       "<div>\n",
       "<style scoped>\n",
       "    .dataframe tbody tr th:only-of-type {\n",
       "        vertical-align: middle;\n",
       "    }\n",
       "\n",
       "    .dataframe tbody tr th {\n",
       "        vertical-align: top;\n",
       "    }\n",
       "\n",
       "    .dataframe thead th {\n",
       "        text-align: right;\n",
       "    }\n",
       "</style>\n",
       "<table border=\"1\" class=\"dataframe\">\n",
       "  <thead>\n",
       "    <tr style=\"text-align: right;\">\n",
       "      <th></th>\n",
       "      <th>company_permalink</th>\n",
       "      <th>name</th>\n",
       "      <th>homepage_url</th>\n",
       "      <th>category_list</th>\n",
       "      <th>status</th>\n",
       "      <th>country_code</th>\n",
       "      <th>state_code</th>\n",
       "      <th>region</th>\n",
       "      <th>city</th>\n",
       "      <th>founded_at</th>\n",
       "    </tr>\n",
       "  </thead>\n",
       "  <tbody>\n",
       "    <tr>\n",
       "      <th>0</th>\n",
       "      <td>/organization/-fame</td>\n",
       "      <td>#fame</td>\n",
       "      <td>http://livfame.com</td>\n",
       "      <td>Media</td>\n",
       "      <td>operating</td>\n",
       "      <td>IND</td>\n",
       "      <td>16</td>\n",
       "      <td>Mumbai</td>\n",
       "      <td>Mumbai</td>\n",
       "      <td>NaN</td>\n",
       "    </tr>\n",
       "    <tr>\n",
       "      <th>1</th>\n",
       "      <td>/organization/-qounter</td>\n",
       "      <td>:Qounter</td>\n",
       "      <td>http://www.qounter.com</td>\n",
       "      <td>Application Platforms|Real Time|Social Network...</td>\n",
       "      <td>operating</td>\n",
       "      <td>USA</td>\n",
       "      <td>DE</td>\n",
       "      <td>DE - Other</td>\n",
       "      <td>Delaware City</td>\n",
       "      <td>04-09-2014</td>\n",
       "    </tr>\n",
       "    <tr>\n",
       "      <th>2</th>\n",
       "      <td>/organization/-the-one-of-them-inc-</td>\n",
       "      <td>(THE) ONE of THEM,Inc.</td>\n",
       "      <td>http://oneofthem.jp</td>\n",
       "      <td>Apps|Games|Mobile</td>\n",
       "      <td>operating</td>\n",
       "      <td>NaN</td>\n",
       "      <td>NaN</td>\n",
       "      <td>NaN</td>\n",
       "      <td>NaN</td>\n",
       "      <td>NaN</td>\n",
       "    </tr>\n",
       "    <tr>\n",
       "      <th>3</th>\n",
       "      <td>/organization/0-6-com</td>\n",
       "      <td>0-6.com</td>\n",
       "      <td>http://www.0-6.com</td>\n",
       "      <td>Curated Web</td>\n",
       "      <td>operating</td>\n",
       "      <td>CHN</td>\n",
       "      <td>22</td>\n",
       "      <td>Beijing</td>\n",
       "      <td>Beijing</td>\n",
       "      <td>01-01-2007</td>\n",
       "    </tr>\n",
       "    <tr>\n",
       "      <th>4</th>\n",
       "      <td>/organization/004-technologies</td>\n",
       "      <td>004 Technologies</td>\n",
       "      <td>http://004gmbh.de/en/004-interact</td>\n",
       "      <td>Software</td>\n",
       "      <td>operating</td>\n",
       "      <td>USA</td>\n",
       "      <td>IL</td>\n",
       "      <td>Springfield, Illinois</td>\n",
       "      <td>Champaign</td>\n",
       "      <td>01-01-2010</td>\n",
       "    </tr>\n",
       "  </tbody>\n",
       "</table>\n",
       "</div>"
      ],
      "text/plain": [
       "                     company_permalink                    name  \\\n",
       "0                  /organization/-fame                   #fame   \n",
       "1               /organization/-qounter                :Qounter   \n",
       "2  /organization/-the-one-of-them-inc-  (THE) ONE of THEM,Inc.   \n",
       "3                /organization/0-6-com                 0-6.com   \n",
       "4       /organization/004-technologies        004 Technologies   \n",
       "\n",
       "                        homepage_url  \\\n",
       "0                 http://livfame.com   \n",
       "1             http://www.qounter.com   \n",
       "2                http://oneofthem.jp   \n",
       "3                 http://www.0-6.com   \n",
       "4  http://004gmbh.de/en/004-interact   \n",
       "\n",
       "                                       category_list     status country_code  \\\n",
       "0                                              Media  operating          IND   \n",
       "1  Application Platforms|Real Time|Social Network...  operating          USA   \n",
       "2                                  Apps|Games|Mobile  operating          NaN   \n",
       "3                                        Curated Web  operating          CHN   \n",
       "4                                           Software  operating          USA   \n",
       "\n",
       "  state_code                 region           city  founded_at  \n",
       "0         16                 Mumbai         Mumbai         NaN  \n",
       "1         DE             DE - Other  Delaware City  04-09-2014  \n",
       "2        NaN                    NaN            NaN         NaN  \n",
       "3         22                Beijing        Beijing  01-01-2007  \n",
       "4         IL  Springfield, Illinois      Champaign  01-01-2010  "
      ]
     },
     "execution_count": 19,
     "metadata": {},
     "output_type": "execute_result"
    }
   ],
   "source": [
    "companies.head(5)"
   ]
  },
  {
   "cell_type": "code",
   "execution_count": 20,
   "metadata": {
    "colab": {
     "base_uri": "https://localhost:8080/",
     "height": 204
    },
    "id": "ajqMXHJp0QJa",
    "outputId": "3f36db6c-4f97-4c9f-b6ea-531b7edada23"
   },
   "outputs": [
    {
     "data": {
      "text/html": [
       "<div>\n",
       "<style scoped>\n",
       "    .dataframe tbody tr th:only-of-type {\n",
       "        vertical-align: middle;\n",
       "    }\n",
       "\n",
       "    .dataframe tbody tr th {\n",
       "        vertical-align: top;\n",
       "    }\n",
       "\n",
       "    .dataframe thead th {\n",
       "        text-align: right;\n",
       "    }\n",
       "</style>\n",
       "<table border=\"1\" class=\"dataframe\">\n",
       "  <thead>\n",
       "    <tr style=\"text-align: right;\">\n",
       "      <th></th>\n",
       "      <th>company_permalink</th>\n",
       "      <th>funding_round_permalink</th>\n",
       "      <th>funding_round_type</th>\n",
       "      <th>funding_round_code</th>\n",
       "      <th>funded_at</th>\n",
       "      <th>raised_amount_usd</th>\n",
       "    </tr>\n",
       "  </thead>\n",
       "  <tbody>\n",
       "    <tr>\n",
       "      <th>0</th>\n",
       "      <td>/organization/-fame</td>\n",
       "      <td>/funding-round/9a01d05418af9f794eebff7ace91f638</td>\n",
       "      <td>venture</td>\n",
       "      <td>B</td>\n",
       "      <td>2015-05-01</td>\n",
       "      <td>10000000.0</td>\n",
       "    </tr>\n",
       "    <tr>\n",
       "      <th>1</th>\n",
       "      <td>/organization/-qounter</td>\n",
       "      <td>/funding-round/22dacff496eb7acb2b901dec1dfe5633</td>\n",
       "      <td>venture</td>\n",
       "      <td>A</td>\n",
       "      <td>2014-10-14</td>\n",
       "      <td>NaN</td>\n",
       "    </tr>\n",
       "    <tr>\n",
       "      <th>2</th>\n",
       "      <td>/organization/-qounter</td>\n",
       "      <td>/funding-round/b44fbb94153f6cdef13083530bb48030</td>\n",
       "      <td>seed</td>\n",
       "      <td>NaN</td>\n",
       "      <td>2014-01-03</td>\n",
       "      <td>700000.0</td>\n",
       "    </tr>\n",
       "    <tr>\n",
       "      <th>3</th>\n",
       "      <td>/organization/-the-one-of-them-inc-</td>\n",
       "      <td>/funding-round/650b8f704416801069bb178a1418776b</td>\n",
       "      <td>venture</td>\n",
       "      <td>B</td>\n",
       "      <td>2014-01-30</td>\n",
       "      <td>3406878.0</td>\n",
       "    </tr>\n",
       "    <tr>\n",
       "      <th>4</th>\n",
       "      <td>/organization/0-6-com</td>\n",
       "      <td>/funding-round/5727accaeaa57461bd22a9bdd945382d</td>\n",
       "      <td>venture</td>\n",
       "      <td>A</td>\n",
       "      <td>2008-03-19</td>\n",
       "      <td>2000000.0</td>\n",
       "    </tr>\n",
       "  </tbody>\n",
       "</table>\n",
       "</div>"
      ],
      "text/plain": [
       "                     company_permalink  \\\n",
       "0                  /organization/-fame   \n",
       "1               /organization/-qounter   \n",
       "2               /organization/-qounter   \n",
       "3  /organization/-the-one-of-them-inc-   \n",
       "4                /organization/0-6-com   \n",
       "\n",
       "                           funding_round_permalink funding_round_type  \\\n",
       "0  /funding-round/9a01d05418af9f794eebff7ace91f638            venture   \n",
       "1  /funding-round/22dacff496eb7acb2b901dec1dfe5633            venture   \n",
       "2  /funding-round/b44fbb94153f6cdef13083530bb48030               seed   \n",
       "3  /funding-round/650b8f704416801069bb178a1418776b            venture   \n",
       "4  /funding-round/5727accaeaa57461bd22a9bdd945382d            venture   \n",
       "\n",
       "  funding_round_code  funded_at  raised_amount_usd  \n",
       "0                  B 2015-05-01         10000000.0  \n",
       "1                  A 2014-10-14                NaN  \n",
       "2                NaN 2014-01-03           700000.0  \n",
       "3                  B 2014-01-30          3406878.0  \n",
       "4                  A 2008-03-19          2000000.0  "
      ]
     },
     "execution_count": 20,
     "metadata": {},
     "output_type": "execute_result"
    }
   ],
   "source": [
    "round2.head(5)"
   ]
  },
  {
   "cell_type": "markdown",
   "metadata": {
    "id": "RVH3-M2o2lQH"
   },
   "source": [
    "Join the dataframes"
   ]
  },
  {
   "cell_type": "code",
   "execution_count": 21,
   "metadata": {
    "id": "jSRrazowyiaH"
   },
   "outputs": [],
   "source": [
    "master_frame=round2.merge(companies, on='company_permalink',how='inner')"
   ]
  },
  {
   "cell_type": "markdown",
   "metadata": {
    "id": "JkgoEEvS2eyN"
   },
   "source": [
    "Check the head"
   ]
  },
  {
   "cell_type": "code",
   "execution_count": 22,
   "metadata": {
    "colab": {
     "base_uri": "https://localhost:8080/",
     "height": 394
    },
    "id": "Gz6-RyE3zDFO",
    "outputId": "efeef414-dbf4-4578-9c11-15ede3e1cd51"
   },
   "outputs": [
    {
     "data": {
      "text/html": [
       "<div>\n",
       "<style scoped>\n",
       "    .dataframe tbody tr th:only-of-type {\n",
       "        vertical-align: middle;\n",
       "    }\n",
       "\n",
       "    .dataframe tbody tr th {\n",
       "        vertical-align: top;\n",
       "    }\n",
       "\n",
       "    .dataframe thead th {\n",
       "        text-align: right;\n",
       "    }\n",
       "</style>\n",
       "<table border=\"1\" class=\"dataframe\">\n",
       "  <thead>\n",
       "    <tr style=\"text-align: right;\">\n",
       "      <th></th>\n",
       "      <th>company_permalink</th>\n",
       "      <th>funding_round_permalink</th>\n",
       "      <th>funding_round_type</th>\n",
       "      <th>funding_round_code</th>\n",
       "      <th>funded_at</th>\n",
       "      <th>raised_amount_usd</th>\n",
       "      <th>name</th>\n",
       "      <th>homepage_url</th>\n",
       "      <th>category_list</th>\n",
       "      <th>status</th>\n",
       "      <th>country_code</th>\n",
       "      <th>state_code</th>\n",
       "      <th>region</th>\n",
       "      <th>city</th>\n",
       "      <th>founded_at</th>\n",
       "    </tr>\n",
       "  </thead>\n",
       "  <tbody>\n",
       "    <tr>\n",
       "      <th>0</th>\n",
       "      <td>/organization/-fame</td>\n",
       "      <td>/funding-round/9a01d05418af9f794eebff7ace91f638</td>\n",
       "      <td>venture</td>\n",
       "      <td>B</td>\n",
       "      <td>2015-05-01</td>\n",
       "      <td>10000000.0</td>\n",
       "      <td>#fame</td>\n",
       "      <td>http://livfame.com</td>\n",
       "      <td>Media</td>\n",
       "      <td>operating</td>\n",
       "      <td>IND</td>\n",
       "      <td>16</td>\n",
       "      <td>Mumbai</td>\n",
       "      <td>Mumbai</td>\n",
       "      <td>NaN</td>\n",
       "    </tr>\n",
       "    <tr>\n",
       "      <th>1</th>\n",
       "      <td>/organization/-qounter</td>\n",
       "      <td>/funding-round/22dacff496eb7acb2b901dec1dfe5633</td>\n",
       "      <td>venture</td>\n",
       "      <td>A</td>\n",
       "      <td>2014-10-14</td>\n",
       "      <td>NaN</td>\n",
       "      <td>:Qounter</td>\n",
       "      <td>http://www.qounter.com</td>\n",
       "      <td>Application Platforms|Real Time|Social Network...</td>\n",
       "      <td>operating</td>\n",
       "      <td>USA</td>\n",
       "      <td>DE</td>\n",
       "      <td>DE - Other</td>\n",
       "      <td>Delaware City</td>\n",
       "      <td>04-09-2014</td>\n",
       "    </tr>\n",
       "    <tr>\n",
       "      <th>2</th>\n",
       "      <td>/organization/-qounter</td>\n",
       "      <td>/funding-round/b44fbb94153f6cdef13083530bb48030</td>\n",
       "      <td>seed</td>\n",
       "      <td>NaN</td>\n",
       "      <td>2014-01-03</td>\n",
       "      <td>700000.0</td>\n",
       "      <td>:Qounter</td>\n",
       "      <td>http://www.qounter.com</td>\n",
       "      <td>Application Platforms|Real Time|Social Network...</td>\n",
       "      <td>operating</td>\n",
       "      <td>USA</td>\n",
       "      <td>DE</td>\n",
       "      <td>DE - Other</td>\n",
       "      <td>Delaware City</td>\n",
       "      <td>04-09-2014</td>\n",
       "    </tr>\n",
       "    <tr>\n",
       "      <th>3</th>\n",
       "      <td>/organization/-the-one-of-them-inc-</td>\n",
       "      <td>/funding-round/650b8f704416801069bb178a1418776b</td>\n",
       "      <td>venture</td>\n",
       "      <td>B</td>\n",
       "      <td>2014-01-30</td>\n",
       "      <td>3406878.0</td>\n",
       "      <td>(THE) ONE of THEM,Inc.</td>\n",
       "      <td>http://oneofthem.jp</td>\n",
       "      <td>Apps|Games|Mobile</td>\n",
       "      <td>operating</td>\n",
       "      <td>NaN</td>\n",
       "      <td>NaN</td>\n",
       "      <td>NaN</td>\n",
       "      <td>NaN</td>\n",
       "      <td>NaN</td>\n",
       "    </tr>\n",
       "    <tr>\n",
       "      <th>4</th>\n",
       "      <td>/organization/0-6-com</td>\n",
       "      <td>/funding-round/5727accaeaa57461bd22a9bdd945382d</td>\n",
       "      <td>venture</td>\n",
       "      <td>A</td>\n",
       "      <td>2008-03-19</td>\n",
       "      <td>2000000.0</td>\n",
       "      <td>0-6.com</td>\n",
       "      <td>http://www.0-6.com</td>\n",
       "      <td>Curated Web</td>\n",
       "      <td>operating</td>\n",
       "      <td>CHN</td>\n",
       "      <td>22</td>\n",
       "      <td>Beijing</td>\n",
       "      <td>Beijing</td>\n",
       "      <td>01-01-2007</td>\n",
       "    </tr>\n",
       "  </tbody>\n",
       "</table>\n",
       "</div>"
      ],
      "text/plain": [
       "                     company_permalink  \\\n",
       "0                  /organization/-fame   \n",
       "1               /organization/-qounter   \n",
       "2               /organization/-qounter   \n",
       "3  /organization/-the-one-of-them-inc-   \n",
       "4                /organization/0-6-com   \n",
       "\n",
       "                           funding_round_permalink funding_round_type  \\\n",
       "0  /funding-round/9a01d05418af9f794eebff7ace91f638            venture   \n",
       "1  /funding-round/22dacff496eb7acb2b901dec1dfe5633            venture   \n",
       "2  /funding-round/b44fbb94153f6cdef13083530bb48030               seed   \n",
       "3  /funding-round/650b8f704416801069bb178a1418776b            venture   \n",
       "4  /funding-round/5727accaeaa57461bd22a9bdd945382d            venture   \n",
       "\n",
       "  funding_round_code  funded_at  raised_amount_usd                    name  \\\n",
       "0                  B 2015-05-01         10000000.0                   #fame   \n",
       "1                  A 2014-10-14                NaN                :Qounter   \n",
       "2                NaN 2014-01-03           700000.0                :Qounter   \n",
       "3                  B 2014-01-30          3406878.0  (THE) ONE of THEM,Inc.   \n",
       "4                  A 2008-03-19          2000000.0                 0-6.com   \n",
       "\n",
       "             homepage_url                                      category_list  \\\n",
       "0      http://livfame.com                                              Media   \n",
       "1  http://www.qounter.com  Application Platforms|Real Time|Social Network...   \n",
       "2  http://www.qounter.com  Application Platforms|Real Time|Social Network...   \n",
       "3     http://oneofthem.jp                                  Apps|Games|Mobile   \n",
       "4      http://www.0-6.com                                        Curated Web   \n",
       "\n",
       "      status country_code state_code      region           city  founded_at  \n",
       "0  operating          IND         16      Mumbai         Mumbai         NaN  \n",
       "1  operating          USA         DE  DE - Other  Delaware City  04-09-2014  \n",
       "2  operating          USA         DE  DE - Other  Delaware City  04-09-2014  \n",
       "3  operating          NaN        NaN         NaN            NaN         NaN  \n",
       "4  operating          CHN         22     Beijing        Beijing  01-01-2007  "
      ]
     },
     "execution_count": 22,
     "metadata": {},
     "output_type": "execute_result"
    }
   ],
   "source": [
    "master_frame.head()"
   ]
  },
  {
   "cell_type": "markdown",
   "metadata": {
    "id": "CZDCrxelz77k"
   },
   "source": [
    "Check the shape of Data"
   ]
  },
  {
   "cell_type": "code",
   "execution_count": 23,
   "metadata": {
    "colab": {
     "base_uri": "https://localhost:8080/"
    },
    "id": "rwhw6Dkd2wOD",
    "outputId": "8bc75ca4-db7c-403b-bc5d-b46e58a92256"
   },
   "outputs": [
    {
     "data": {
      "text/plain": [
       "(114942, 15)"
      ]
     },
     "execution_count": 23,
     "metadata": {},
     "output_type": "execute_result"
    }
   ],
   "source": [
    "master_frame.shape"
   ]
  },
  {
   "cell_type": "code",
   "execution_count": 24,
   "metadata": {
    "colab": {
     "base_uri": "https://localhost:8080/"
    },
    "id": "rNgoFOKmF22g",
    "outputId": "21e1790b-4ed9-4562-87a8-0a2c5b288bbb"
   },
   "outputs": [
    {
     "data": {
      "text/plain": [
       "company_permalink              0\n",
       "funding_round_permalink        0\n",
       "funding_round_type             0\n",
       "funding_round_code         83803\n",
       "funded_at                      0\n",
       "raised_amount_usd          19984\n",
       "name                           1\n",
       "homepage_url                6132\n",
       "category_list               3407\n",
       "status                         0\n",
       "country_code                8671\n",
       "state_code                 10939\n",
       "region                     10160\n",
       "city                       10157\n",
       "founded_at                 20520\n",
       "dtype: int64"
      ]
     },
     "execution_count": 24,
     "metadata": {},
     "output_type": "execute_result"
    }
   ],
   "source": [
    "master_frame.isnull().sum()"
   ]
  },
  {
   "cell_type": "markdown",
   "metadata": {
    "id": "Ow7jQ7SI6YWB"
   },
   "source": [
    "Find the median and create a Pivot table to find median of each funding round type. Taking median as mean can represent skewed data. Median represents the 50th percentile of data.\n",
    "\n",
    "\n"
   ]
  },
  {
   "cell_type": "code",
   "execution_count": 25,
   "metadata": {
    "colab": {
     "base_uri": "https://localhost:8080/",
     "height": 514
    },
    "id": "vh8Y5nj_32HD",
    "outputId": "de631054-56ee-44e8-b171-bf81a4527730"
   },
   "outputs": [
    {
     "data": {
      "text/html": [
       "<div>\n",
       "<style scoped>\n",
       "    .dataframe tbody tr th:only-of-type {\n",
       "        vertical-align: middle;\n",
       "    }\n",
       "\n",
       "    .dataframe tbody tr th {\n",
       "        vertical-align: top;\n",
       "    }\n",
       "\n",
       "    .dataframe thead th {\n",
       "        text-align: right;\n",
       "    }\n",
       "</style>\n",
       "<table border=\"1\" class=\"dataframe\">\n",
       "  <thead>\n",
       "    <tr style=\"text-align: right;\">\n",
       "      <th></th>\n",
       "      <th>raised_amount_usd</th>\n",
       "    </tr>\n",
       "    <tr>\n",
       "      <th>funding_round_type</th>\n",
       "      <th></th>\n",
       "    </tr>\n",
       "  </thead>\n",
       "  <tbody>\n",
       "    <tr>\n",
       "      <th>angel</th>\n",
       "      <td>400000.0</td>\n",
       "    </tr>\n",
       "    <tr>\n",
       "      <th>convertible_note</th>\n",
       "      <td>272000.0</td>\n",
       "    </tr>\n",
       "    <tr>\n",
       "      <th>debt_financing</th>\n",
       "      <td>1100000.0</td>\n",
       "    </tr>\n",
       "    <tr>\n",
       "      <th>equity_crowdfunding</th>\n",
       "      <td>100000.0</td>\n",
       "    </tr>\n",
       "    <tr>\n",
       "      <th>grant</th>\n",
       "      <td>201684.0</td>\n",
       "    </tr>\n",
       "    <tr>\n",
       "      <th>non_equity_assistance</th>\n",
       "      <td>60000.0</td>\n",
       "    </tr>\n",
       "    <tr>\n",
       "      <th>post_ipo_debt</th>\n",
       "      <td>19950000.0</td>\n",
       "    </tr>\n",
       "    <tr>\n",
       "      <th>post_ipo_equity</th>\n",
       "      <td>12262852.5</td>\n",
       "    </tr>\n",
       "    <tr>\n",
       "      <th>private_equity</th>\n",
       "      <td>20000000.0</td>\n",
       "    </tr>\n",
       "    <tr>\n",
       "      <th>product_crowdfunding</th>\n",
       "      <td>183915.0</td>\n",
       "    </tr>\n",
       "    <tr>\n",
       "      <th>secondary_market</th>\n",
       "      <td>32600000.0</td>\n",
       "    </tr>\n",
       "    <tr>\n",
       "      <th>seed</th>\n",
       "      <td>275000.0</td>\n",
       "    </tr>\n",
       "    <tr>\n",
       "      <th>undisclosed</th>\n",
       "      <td>1018680.0</td>\n",
       "    </tr>\n",
       "    <tr>\n",
       "      <th>venture</th>\n",
       "      <td>5000000.0</td>\n",
       "    </tr>\n",
       "  </tbody>\n",
       "</table>\n",
       "</div>"
      ],
      "text/plain": [
       "                       raised_amount_usd\n",
       "funding_round_type                      \n",
       "angel                           400000.0\n",
       "convertible_note                272000.0\n",
       "debt_financing                 1100000.0\n",
       "equity_crowdfunding             100000.0\n",
       "grant                           201684.0\n",
       "non_equity_assistance            60000.0\n",
       "post_ipo_debt                 19950000.0\n",
       "post_ipo_equity               12262852.5\n",
       "private_equity                20000000.0\n",
       "product_crowdfunding            183915.0\n",
       "secondary_market              32600000.0\n",
       "seed                            275000.0\n",
       "undisclosed                    1018680.0\n",
       "venture                        5000000.0"
      ]
     },
     "execution_count": 25,
     "metadata": {},
     "output_type": "execute_result"
    }
   ],
   "source": [
    "master_frame.pivot_table(values = 'raised_amount_usd', index = 'funding_round_type', aggfunc ='median')"
   ]
  },
  {
   "cell_type": "markdown",
   "metadata": {
    "id": "zW5MTa9arnoA"
   },
   "source": [
    "Sparkfund data between 5 to 15 million"
   ]
  },
  {
   "cell_type": "code",
   "execution_count": 26,
   "metadata": {
    "id": "4ZBjQkos95fB"
   },
   "outputs": [],
   "source": [
    "masterspark=master_frame[(master_frame['raised_amount_usd']>= 5000000) &(master_frame['raised_amount_usd']<=15000000)]"
   ]
  },
  {
   "cell_type": "code",
   "execution_count": 27,
   "metadata": {
    "colab": {
     "base_uri": "https://localhost:8080/"
    },
    "id": "dAjYRHq4O2bk",
    "outputId": "478e4ea9-2219-47d5-d15e-3b536f836c7e"
   },
   "outputs": [
    {
     "data": {
      "text/plain": [
       "company_permalink             0\n",
       "funding_round_permalink       0\n",
       "funding_round_type            0\n",
       "funding_round_code         7141\n",
       "funded_at                     0\n",
       "raised_amount_usd             0\n",
       "name                          0\n",
       "homepage_url                990\n",
       "category_list               233\n",
       "status                        0\n",
       "country_code                811\n",
       "state_code                 1083\n",
       "region                     1023\n",
       "city                       1021\n",
       "founded_at                 3376\n",
       "dtype: int64"
      ]
     },
     "execution_count": 27,
     "metadata": {},
     "output_type": "execute_result"
    }
   ],
   "source": [
    "masterspark.isnull().sum()"
   ]
  },
  {
   "cell_type": "code",
   "execution_count": 28,
   "metadata": {
    "colab": {
     "base_uri": "https://localhost:8080/",
     "height": 514
    },
    "id": "eg1w4ahrsBI1",
    "outputId": "a1e7a308-bf89-4e0b-9e8a-0db313d7c85b"
   },
   "outputs": [
    {
     "data": {
      "text/html": [
       "<div>\n",
       "<style scoped>\n",
       "    .dataframe tbody tr th:only-of-type {\n",
       "        vertical-align: middle;\n",
       "    }\n",
       "\n",
       "    .dataframe tbody tr th {\n",
       "        vertical-align: top;\n",
       "    }\n",
       "\n",
       "    .dataframe thead th {\n",
       "        text-align: right;\n",
       "    }\n",
       "</style>\n",
       "<table border=\"1\" class=\"dataframe\">\n",
       "  <thead>\n",
       "    <tr style=\"text-align: right;\">\n",
       "      <th></th>\n",
       "      <th>raised_amount_usd</th>\n",
       "    </tr>\n",
       "    <tr>\n",
       "      <th>funding_round_type</th>\n",
       "      <th></th>\n",
       "    </tr>\n",
       "  </thead>\n",
       "  <tbody>\n",
       "    <tr>\n",
       "      <th>angel</th>\n",
       "      <td>6500000.0</td>\n",
       "    </tr>\n",
       "    <tr>\n",
       "      <th>convertible_note</th>\n",
       "      <td>6925436.5</td>\n",
       "    </tr>\n",
       "    <tr>\n",
       "      <th>debt_financing</th>\n",
       "      <td>7500000.0</td>\n",
       "    </tr>\n",
       "    <tr>\n",
       "      <th>equity_crowdfunding</th>\n",
       "      <td>6000000.0</td>\n",
       "    </tr>\n",
       "    <tr>\n",
       "      <th>grant</th>\n",
       "      <td>8100000.0</td>\n",
       "    </tr>\n",
       "    <tr>\n",
       "      <th>non_equity_assistance</th>\n",
       "      <td>15000000.0</td>\n",
       "    </tr>\n",
       "    <tr>\n",
       "      <th>post_ipo_debt</th>\n",
       "      <td>9750000.0</td>\n",
       "    </tr>\n",
       "    <tr>\n",
       "      <th>post_ipo_equity</th>\n",
       "      <td>9276437.5</td>\n",
       "    </tr>\n",
       "    <tr>\n",
       "      <th>private_equity</th>\n",
       "      <td>9469746.0</td>\n",
       "    </tr>\n",
       "    <tr>\n",
       "      <th>product_crowdfunding</th>\n",
       "      <td>8782571.0</td>\n",
       "    </tr>\n",
       "    <tr>\n",
       "      <th>secondary_market</th>\n",
       "      <td>6955631.5</td>\n",
       "    </tr>\n",
       "    <tr>\n",
       "      <th>seed</th>\n",
       "      <td>6000000.0</td>\n",
       "    </tr>\n",
       "    <tr>\n",
       "      <th>undisclosed</th>\n",
       "      <td>8000000.0</td>\n",
       "    </tr>\n",
       "    <tr>\n",
       "      <th>venture</th>\n",
       "      <td>8269594.5</td>\n",
       "    </tr>\n",
       "  </tbody>\n",
       "</table>\n",
       "</div>"
      ],
      "text/plain": [
       "                       raised_amount_usd\n",
       "funding_round_type                      \n",
       "angel                          6500000.0\n",
       "convertible_note               6925436.5\n",
       "debt_financing                 7500000.0\n",
       "equity_crowdfunding            6000000.0\n",
       "grant                          8100000.0\n",
       "non_equity_assistance         15000000.0\n",
       "post_ipo_debt                  9750000.0\n",
       "post_ipo_equity                9276437.5\n",
       "private_equity                 9469746.0\n",
       "product_crowdfunding           8782571.0\n",
       "secondary_market               6955631.5\n",
       "seed                           6000000.0\n",
       "undisclosed                    8000000.0\n",
       "venture                        8269594.5"
      ]
     },
     "execution_count": 28,
     "metadata": {},
     "output_type": "execute_result"
    }
   ],
   "source": [
    "masterspark.pivot_table(values = 'raised_amount_usd', index = 'funding_round_type', aggfunc ='median')"
   ]
  },
  {
   "cell_type": "markdown",
   "metadata": {
    "id": "fItRaBzKAiK4"
   },
   "source": [
    "Plot a boxplot to show the how the distibution is for each funding type."
   ]
  },
  {
   "cell_type": "code",
   "execution_count": 29,
   "metadata": {
    "colab": {
     "base_uri": "https://localhost:8080/",
     "height": 586
    },
    "id": "nHlA1i3w-Lw1",
    "outputId": "f696bda1-dac9-4c25-ed48-e3957125ac8d"
   },
   "outputs": [
    {
     "data": {
      "image/png": "[encoded data removed]",
      "text/plain": [
       "<Figure size 1800x720 with 1 Axes>"
      ]
     },
     "metadata": {
      "needs_background": "light"
     },
     "output_type": "display_data"
    }
   ],
   "source": [
    "plt.figure(figsize=(25,10))\n",
    "\n",
    "sns.boxplot(masterspark['funding_round_type'],masterspark['raised_amount_usd'])\n",
    "plt.show()"
   ]
  },
  {
   "cell_type": "markdown",
   "metadata": {
    "id": "cl4SjL-JsLx6"
   },
   "source": [
    "Based on Boxplot and pivot table, it can be concluded private equity is the best investment type for spark fund\n",
    "\n",
    "\n"
   ]
  },
  {
   "cell_type": "markdown",
   "metadata": {
    "id": "sLcsyQcI0JDZ"
   },
   "source": [
    "To get the data for top 9 countries in Private Equiy, we need to Group the data by countries\n"
   ]
  },
  {
   "cell_type": "code",
   "execution_count": 30,
   "metadata": {
    "id": "HKI0OEl3QbT8"
   },
   "outputs": [],
   "source": [
    "group_by_countries=master_frame[master_frame.funding_round_type=='private_equity'].groupby('country_code')"
   ]
  },
  {
   "cell_type": "code",
   "execution_count": 31,
   "metadata": {
    "id": "JWJ5TdPmRjXS"
   },
   "outputs": [],
   "source": [
    "#save the grouped data in descending order\n",
    "grouped_countries=pd.DataFrame(group_by_countries['raised_amount_usd'].sum().sort_values(ascending=False))"
   ]
  },
  {
   "cell_type": "code",
   "execution_count": 32,
   "metadata": {
    "id": "8oNndnXdR7ln"
   },
   "outputs": [],
   "source": [
    "#select the first 9 rows for top 9 data and save it as dataframe\n",
    "top9=pd.DataFrame(grouped_countries.iloc[0:9])"
   ]
  },
  {
   "cell_type": "code",
   "execution_count": 33,
   "metadata": {
    "id": "W2v9tdcToxoA"
   },
   "outputs": [],
   "source": [
    "#reset the index of dataframe\n",
    "top9.reset_index(inplace=True)"
   ]
  },
  {
   "cell_type": "code",
   "execution_count": 34,
   "metadata": {
    "colab": {
     "base_uri": "https://localhost:8080/",
     "height": 328
    },
    "id": "Lon5Q5YylmGC",
    "outputId": "b777736c-88f1-48ca-a252-d18413416511"
   },
   "outputs": [
    {
     "data": {
      "text/html": [
       "<div>\n",
       "<style scoped>\n",
       "    .dataframe tbody tr th:only-of-type {\n",
       "        vertical-align: middle;\n",
       "    }\n",
       "\n",
       "    .dataframe tbody tr th {\n",
       "        vertical-align: top;\n",
       "    }\n",
       "\n",
       "    .dataframe thead th {\n",
       "        text-align: right;\n",
       "    }\n",
       "</style>\n",
       "<table border=\"1\" class=\"dataframe\">\n",
       "  <thead>\n",
       "    <tr style=\"text-align: right;\">\n",
       "      <th></th>\n",
       "      <th>country_code</th>\n",
       "      <th>raised_amount_usd</th>\n",
       "    </tr>\n",
       "  </thead>\n",
       "  <tbody>\n",
       "    <tr>\n",
       "      <th>0</th>\n",
       "      <td>USA</td>\n",
       "      <td>7.622128e+10</td>\n",
       "    </tr>\n",
       "    <tr>\n",
       "      <th>1</th>\n",
       "      <td>CHN</td>\n",
       "      <td>2.111665e+10</td>\n",
       "    </tr>\n",
       "    <tr>\n",
       "      <th>2</th>\n",
       "      <td>IND</td>\n",
       "      <td>6.547512e+09</td>\n",
       "    </tr>\n",
       "    <tr>\n",
       "      <th>3</th>\n",
       "      <td>GBR</td>\n",
       "      <td>5.536833e+09</td>\n",
       "    </tr>\n",
       "    <tr>\n",
       "      <th>4</th>\n",
       "      <td>RUS</td>\n",
       "      <td>3.261000e+09</td>\n",
       "    </tr>\n",
       "    <tr>\n",
       "      <th>5</th>\n",
       "      <td>CAN</td>\n",
       "      <td>2.993348e+09</td>\n",
       "    </tr>\n",
       "    <tr>\n",
       "      <th>6</th>\n",
       "      <td>NLD</td>\n",
       "      <td>2.032735e+09</td>\n",
       "    </tr>\n",
       "    <tr>\n",
       "      <th>7</th>\n",
       "      <td>BRA</td>\n",
       "      <td>2.014727e+09</td>\n",
       "    </tr>\n",
       "    <tr>\n",
       "      <th>8</th>\n",
       "      <td>DEU</td>\n",
       "      <td>2.001233e+09</td>\n",
       "    </tr>\n",
       "  </tbody>\n",
       "</table>\n",
       "</div>"
      ],
      "text/plain": [
       "  country_code  raised_amount_usd\n",
       "0          USA       7.622128e+10\n",
       "1          CHN       2.111665e+10\n",
       "2          IND       6.547512e+09\n",
       "3          GBR       5.536833e+09\n",
       "4          RUS       3.261000e+09\n",
       "5          CAN       2.993348e+09\n",
       "6          NLD       2.032735e+09\n",
       "7          BRA       2.014727e+09\n",
       "8          DEU       2.001233e+09"
      ]
     },
     "execution_count": 34,
     "metadata": {},
     "output_type": "execute_result"
    }
   ],
   "source": [
    "#check the data\n",
    "top9"
   ]
  },
  {
   "cell_type": "markdown",
   "metadata": {
    "id": "2g28BAVK00ya"
   },
   "source": [
    "Extract Primary Category"
   ]
  },
  {
   "cell_type": "code",
   "execution_count": 35,
   "metadata": {
    "id": "YvdnzJPnnfM2"
   },
   "outputs": [],
   "source": [
    "#extract primary category\n",
    "master_frame['primary_category']=master_frame['category_list'].str.split('|').str[0] "
   ]
  },
  {
   "cell_type": "code",
   "execution_count": 36,
   "metadata": {
    "colab": {
     "base_uri": "https://localhost:8080/",
     "height": 394
    },
    "id": "K33cYIiOoVb1",
    "outputId": "e35d7fed-44c7-43d8-c39d-5d5057201f0c"
   },
   "outputs": [
    {
     "data": {
      "text/html": [
       "<div>\n",
       "<style scoped>\n",
       "    .dataframe tbody tr th:only-of-type {\n",
       "        vertical-align: middle;\n",
       "    }\n",
       "\n",
       "    .dataframe tbody tr th {\n",
       "        vertical-align: top;\n",
       "    }\n",
       "\n",
       "    .dataframe thead th {\n",
       "        text-align: right;\n",
       "    }\n",
       "</style>\n",
       "<table border=\"1\" class=\"dataframe\">\n",
       "  <thead>\n",
       "    <tr style=\"text-align: right;\">\n",
       "      <th></th>\n",
       "      <th>company_permalink</th>\n",
       "      <th>funding_round_permalink</th>\n",
       "      <th>funding_round_type</th>\n",
       "      <th>funding_round_code</th>\n",
       "      <th>funded_at</th>\n",
       "      <th>raised_amount_usd</th>\n",
       "      <th>name</th>\n",
       "      <th>homepage_url</th>\n",
       "      <th>category_list</th>\n",
       "      <th>status</th>\n",
       "      <th>country_code</th>\n",
       "      <th>state_code</th>\n",
       "      <th>region</th>\n",
       "      <th>city</th>\n",
       "      <th>founded_at</th>\n",
       "      <th>primary_category</th>\n",
       "    </tr>\n",
       "  </thead>\n",
       "  <tbody>\n",
       "    <tr>\n",
       "      <th>0</th>\n",
       "      <td>/organization/-fame</td>\n",
       "      <td>/funding-round/9a01d05418af9f794eebff7ace91f638</td>\n",
       "      <td>venture</td>\n",
       "      <td>B</td>\n",
       "      <td>2015-05-01</td>\n",
       "      <td>10000000.0</td>\n",
       "      <td>#fame</td>\n",
       "      <td>http://livfame.com</td>\n",
       "      <td>Media</td>\n",
       "      <td>operating</td>\n",
       "      <td>IND</td>\n",
       "      <td>16</td>\n",
       "      <td>Mumbai</td>\n",
       "      <td>Mumbai</td>\n",
       "      <td>NaN</td>\n",
       "      <td>Media</td>\n",
       "    </tr>\n",
       "    <tr>\n",
       "      <th>1</th>\n",
       "      <td>/organization/-qounter</td>\n",
       "      <td>/funding-round/22dacff496eb7acb2b901dec1dfe5633</td>\n",
       "      <td>venture</td>\n",
       "      <td>A</td>\n",
       "      <td>2014-10-14</td>\n",
       "      <td>NaN</td>\n",
       "      <td>:Qounter</td>\n",
       "      <td>http://www.qounter.com</td>\n",
       "      <td>Application Platforms|Real Time|Social Network...</td>\n",
       "      <td>operating</td>\n",
       "      <td>USA</td>\n",
       "      <td>DE</td>\n",
       "      <td>DE - Other</td>\n",
       "      <td>Delaware City</td>\n",
       "      <td>04-09-2014</td>\n",
       "      <td>Application Platforms</td>\n",
       "    </tr>\n",
       "    <tr>\n",
       "      <th>2</th>\n",
       "      <td>/organization/-qounter</td>\n",
       "      <td>/funding-round/b44fbb94153f6cdef13083530bb48030</td>\n",
       "      <td>seed</td>\n",
       "      <td>NaN</td>\n",
       "      <td>2014-01-03</td>\n",
       "      <td>700000.0</td>\n",
       "      <td>:Qounter</td>\n",
       "      <td>http://www.qounter.com</td>\n",
       "      <td>Application Platforms|Real Time|Social Network...</td>\n",
       "      <td>operating</td>\n",
       "      <td>USA</td>\n",
       "      <td>DE</td>\n",
       "      <td>DE - Other</td>\n",
       "      <td>Delaware City</td>\n",
       "      <td>04-09-2014</td>\n",
       "      <td>Application Platforms</td>\n",
       "    </tr>\n",
       "    <tr>\n",
       "      <th>3</th>\n",
       "      <td>/organization/-the-one-of-them-inc-</td>\n",
       "      <td>/funding-round/650b8f704416801069bb178a1418776b</td>\n",
       "      <td>venture</td>\n",
       "      <td>B</td>\n",
       "      <td>2014-01-30</td>\n",
       "      <td>3406878.0</td>\n",
       "      <td>(THE) ONE of THEM,Inc.</td>\n",
       "      <td>http://oneofthem.jp</td>\n",
       "      <td>Apps|Games|Mobile</td>\n",
       "      <td>operating</td>\n",
       "      <td>NaN</td>\n",
       "      <td>NaN</td>\n",
       "      <td>NaN</td>\n",
       "      <td>NaN</td>\n",
       "      <td>NaN</td>\n",
       "      <td>Apps</td>\n",
       "    </tr>\n",
       "    <tr>\n",
       "      <th>4</th>\n",
       "      <td>/organization/0-6-com</td>\n",
       "      <td>/funding-round/5727accaeaa57461bd22a9bdd945382d</td>\n",
       "      <td>venture</td>\n",
       "      <td>A</td>\n",
       "      <td>2008-03-19</td>\n",
       "      <td>2000000.0</td>\n",
       "      <td>0-6.com</td>\n",
       "      <td>http://www.0-6.com</td>\n",
       "      <td>Curated Web</td>\n",
       "      <td>operating</td>\n",
       "      <td>CHN</td>\n",
       "      <td>22</td>\n",
       "      <td>Beijing</td>\n",
       "      <td>Beijing</td>\n",
       "      <td>01-01-2007</td>\n",
       "      <td>Curated Web</td>\n",
       "    </tr>\n",
       "  </tbody>\n",
       "</table>\n",
       "</div>"
      ],
      "text/plain": [
       "                     company_permalink  \\\n",
       "0                  /organization/-fame   \n",
       "1               /organization/-qounter   \n",
       "2               /organization/-qounter   \n",
       "3  /organization/-the-one-of-them-inc-   \n",
       "4                /organization/0-6-com   \n",
       "\n",
       "                           funding_round_permalink funding_round_type  \\\n",
       "0  /funding-round/9a01d05418af9f794eebff7ace91f638            venture   \n",
       "1  /funding-round/22dacff496eb7acb2b901dec1dfe5633            venture   \n",
       "2  /funding-round/b44fbb94153f6cdef13083530bb48030               seed   \n",
       "3  /funding-round/650b8f704416801069bb178a1418776b            venture   \n",
       "4  /funding-round/5727accaeaa57461bd22a9bdd945382d            venture   \n",
       "\n",
       "  funding_round_code  funded_at  raised_amount_usd                    name  \\\n",
       "0                  B 2015-05-01         10000000.0                   #fame   \n",
       "1                  A 2014-10-14                NaN                :Qounter   \n",
       "2                NaN 2014-01-03           700000.0                :Qounter   \n",
       "3                  B 2014-01-30          3406878.0  (THE) ONE of THEM,Inc.   \n",
       "4                  A 2008-03-19          2000000.0                 0-6.com   \n",
       "\n",
       "             homepage_url                                      category_list  \\\n",
       "0      http://livfame.com                                              Media   \n",
       "1  http://www.qounter.com  Application Platforms|Real Time|Social Network...   \n",
       "2  http://www.qounter.com  Application Platforms|Real Time|Social Network...   \n",
       "3     http://oneofthem.jp                                  Apps|Games|Mobile   \n",
       "4      http://www.0-6.com                                        Curated Web   \n",
       "\n",
       "      status country_code state_code      region           city  founded_at  \\\n",
       "0  operating          IND         16      Mumbai         Mumbai         NaN   \n",
       "1  operating          USA         DE  DE - Other  Delaware City  04-09-2014   \n",
       "2  operating          USA         DE  DE - Other  Delaware City  04-09-2014   \n",
       "3  operating          NaN        NaN         NaN            NaN         NaN   \n",
       "4  operating          CHN         22     Beijing        Beijing  01-01-2007   \n",
       "\n",
       "        primary_category  \n",
       "0                  Media  \n",
       "1  Application Platforms  \n",
       "2  Application Platforms  \n",
       "3                   Apps  \n",
       "4            Curated Web  "
      ]
     },
     "execution_count": 36,
     "metadata": {},
     "output_type": "execute_result"
    }
   ],
   "source": [
    "master_frame.head()"
   ]
  },
  {
   "cell_type": "markdown",
   "metadata": {
    "id": "IeCXK1P305MI"
   },
   "source": [
    "Load Mappings Data "
   ]
  },
  {
   "cell_type": "code",
   "execution_count": 38,
   "metadata": {
    "id": "_OaZmpHyvJ0M"
   },
   "outputs": [],
   "source": [
    "mappings=pd.read_csv('mapping.csv',encoding= 'unicode_escape')"
   ]
  },
  {
   "cell_type": "code",
   "execution_count": 39,
   "metadata": {
    "colab": {
     "base_uri": "https://localhost:8080/",
     "height": 221
    },
    "id": "-yKrS3qNv_2N",
    "outputId": "9392945a-df67-4cca-a97c-08a7044b2644"
   },
   "outputs": [
    {
     "data": {
      "text/html": [
       "<div>\n",
       "<style scoped>\n",
       "    .dataframe tbody tr th:only-of-type {\n",
       "        vertical-align: middle;\n",
       "    }\n",
       "\n",
       "    .dataframe tbody tr th {\n",
       "        vertical-align: top;\n",
       "    }\n",
       "\n",
       "    .dataframe thead th {\n",
       "        text-align: right;\n",
       "    }\n",
       "</style>\n",
       "<table border=\"1\" class=\"dataframe\">\n",
       "  <thead>\n",
       "    <tr style=\"text-align: right;\">\n",
       "      <th></th>\n",
       "      <th>category_list</th>\n",
       "      <th>Automotive &amp; Sports</th>\n",
       "      <th>Blanks</th>\n",
       "      <th>Cleantech / Semiconductors</th>\n",
       "      <th>Entertainment</th>\n",
       "      <th>Health</th>\n",
       "      <th>Manufacturing</th>\n",
       "      <th>News, Search and Messaging</th>\n",
       "      <th>Others</th>\n",
       "      <th>Social, Finance, Analytics, Advertising</th>\n",
       "    </tr>\n",
       "  </thead>\n",
       "  <tbody>\n",
       "    <tr>\n",
       "      <th>0</th>\n",
       "      <td>NaN</td>\n",
       "      <td>0</td>\n",
       "      <td>1</td>\n",
       "      <td>0</td>\n",
       "      <td>0</td>\n",
       "      <td>0</td>\n",
       "      <td>0</td>\n",
       "      <td>0</td>\n",
       "      <td>0</td>\n",
       "      <td>0</td>\n",
       "    </tr>\n",
       "    <tr>\n",
       "      <th>1</th>\n",
       "      <td>3D</td>\n",
       "      <td>0</td>\n",
       "      <td>0</td>\n",
       "      <td>0</td>\n",
       "      <td>0</td>\n",
       "      <td>0</td>\n",
       "      <td>1</td>\n",
       "      <td>0</td>\n",
       "      <td>0</td>\n",
       "      <td>0</td>\n",
       "    </tr>\n",
       "    <tr>\n",
       "      <th>2</th>\n",
       "      <td>3D Printing</td>\n",
       "      <td>0</td>\n",
       "      <td>0</td>\n",
       "      <td>0</td>\n",
       "      <td>0</td>\n",
       "      <td>0</td>\n",
       "      <td>1</td>\n",
       "      <td>0</td>\n",
       "      <td>0</td>\n",
       "      <td>0</td>\n",
       "    </tr>\n",
       "    <tr>\n",
       "      <th>3</th>\n",
       "      <td>3D Technology</td>\n",
       "      <td>0</td>\n",
       "      <td>0</td>\n",
       "      <td>0</td>\n",
       "      <td>0</td>\n",
       "      <td>0</td>\n",
       "      <td>1</td>\n",
       "      <td>0</td>\n",
       "      <td>0</td>\n",
       "      <td>0</td>\n",
       "    </tr>\n",
       "    <tr>\n",
       "      <th>4</th>\n",
       "      <td>Accounting</td>\n",
       "      <td>0</td>\n",
       "      <td>0</td>\n",
       "      <td>0</td>\n",
       "      <td>0</td>\n",
       "      <td>0</td>\n",
       "      <td>0</td>\n",
       "      <td>0</td>\n",
       "      <td>0</td>\n",
       "      <td>1</td>\n",
       "    </tr>\n",
       "  </tbody>\n",
       "</table>\n",
       "</div>"
      ],
      "text/plain": [
       "   category_list  Automotive & Sports  Blanks  Cleantech / Semiconductors  \\\n",
       "0            NaN                    0       1                           0   \n",
       "1             3D                    0       0                           0   \n",
       "2    3D Printing                    0       0                           0   \n",
       "3  3D Technology                    0       0                           0   \n",
       "4     Accounting                    0       0                           0   \n",
       "\n",
       "   Entertainment  Health  Manufacturing  News, Search and Messaging  Others  \\\n",
       "0              0       0              0                           0       0   \n",
       "1              0       0              1                           0       0   \n",
       "2              0       0              1                           0       0   \n",
       "3              0       0              1                           0       0   \n",
       "4              0       0              0                           0       0   \n",
       "\n",
       "   Social, Finance, Analytics, Advertising  \n",
       "0                                        0  \n",
       "1                                        0  \n",
       "2                                        0  \n",
       "3                                        0  \n",
       "4                                        1  "
      ]
     },
     "execution_count": 39,
     "metadata": {},
     "output_type": "execute_result"
    }
   ],
   "source": [
    "mappings.head()"
   ]
  },
  {
   "cell_type": "code",
   "execution_count": 40,
   "metadata": {
    "id": "1PVSGsIK07AB"
   },
   "outputs": [],
   "source": [
    "#drop the first row\n",
    "mappings.drop(0, inplace = True)"
   ]
  },
  {
   "cell_type": "markdown",
   "metadata": {
    "id": "pWSnm3j65LCh"
   },
   "source": [
    "Unpivot the table"
   ]
  },
  {
   "cell_type": "code",
   "execution_count": 41,
   "metadata": {
    "id": "wVF1YUbTwC9c"
   },
   "outputs": [],
   "source": [
    "#unpivot using melt\n",
    "mappings = pd.melt(mappings, id_vars=['category_list'])"
   ]
  },
  {
   "cell_type": "code",
   "execution_count": 42,
   "metadata": {
    "colab": {
     "base_uri": "https://localhost:8080/",
     "height": 204
    },
    "id": "bx8H6sr35iaB",
    "outputId": "55104d65-9ecd-4239-d273-436ee4bdf4e2"
   },
   "outputs": [
    {
     "data": {
      "text/html": [
       "<div>\n",
       "<style scoped>\n",
       "    .dataframe tbody tr th:only-of-type {\n",
       "        vertical-align: middle;\n",
       "    }\n",
       "\n",
       "    .dataframe tbody tr th {\n",
       "        vertical-align: top;\n",
       "    }\n",
       "\n",
       "    .dataframe thead th {\n",
       "        text-align: right;\n",
       "    }\n",
       "</style>\n",
       "<table border=\"1\" class=\"dataframe\">\n",
       "  <thead>\n",
       "    <tr style=\"text-align: right;\">\n",
       "      <th></th>\n",
       "      <th>category_list</th>\n",
       "      <th>variable</th>\n",
       "      <th>value</th>\n",
       "    </tr>\n",
       "  </thead>\n",
       "  <tbody>\n",
       "    <tr>\n",
       "      <th>0</th>\n",
       "      <td>3D</td>\n",
       "      <td>Automotive &amp; Sports</td>\n",
       "      <td>0</td>\n",
       "    </tr>\n",
       "    <tr>\n",
       "      <th>1</th>\n",
       "      <td>3D Printing</td>\n",
       "      <td>Automotive &amp; Sports</td>\n",
       "      <td>0</td>\n",
       "    </tr>\n",
       "    <tr>\n",
       "      <th>2</th>\n",
       "      <td>3D Technology</td>\n",
       "      <td>Automotive &amp; Sports</td>\n",
       "      <td>0</td>\n",
       "    </tr>\n",
       "    <tr>\n",
       "      <th>3</th>\n",
       "      <td>Accounting</td>\n",
       "      <td>Automotive &amp; Sports</td>\n",
       "      <td>0</td>\n",
       "    </tr>\n",
       "    <tr>\n",
       "      <th>4</th>\n",
       "      <td>Active Lifestyle</td>\n",
       "      <td>Automotive &amp; Sports</td>\n",
       "      <td>0</td>\n",
       "    </tr>\n",
       "  </tbody>\n",
       "</table>\n",
       "</div>"
      ],
      "text/plain": [
       "      category_list             variable  value\n",
       "0                3D  Automotive & Sports      0\n",
       "1       3D Printing  Automotive & Sports      0\n",
       "2     3D Technology  Automotive & Sports      0\n",
       "3        Accounting  Automotive & Sports      0\n",
       "4  Active Lifestyle  Automotive & Sports      0"
      ]
     },
     "execution_count": 42,
     "metadata": {},
     "output_type": "execute_result"
    }
   ],
   "source": [
    "#check the head\n",
    "mappings.head()"
   ]
  },
  {
   "cell_type": "markdown",
   "metadata": {
    "id": "K0554CZP5nek"
   },
   "source": [
    "Filter where value is 1"
   ]
  },
  {
   "cell_type": "code",
   "execution_count": 43,
   "metadata": {
    "id": "egcA1FVB5mSe"
   },
   "outputs": [],
   "source": [
    "mappings=mappings[mappings.value==1]"
   ]
  },
  {
   "cell_type": "code",
   "execution_count": 44,
   "metadata": {
    "colab": {
     "base_uri": "https://localhost:8080/",
     "height": 204
    },
    "id": "Eg2FRmWf5laz",
    "outputId": "1c063826-0ee6-4720-9975-bb1281f2b26a"
   },
   "outputs": [
    {
     "data": {
      "text/html": [
       "<div>\n",
       "<style scoped>\n",
       "    .dataframe tbody tr th:only-of-type {\n",
       "        vertical-align: middle;\n",
       "    }\n",
       "\n",
       "    .dataframe tbody tr th {\n",
       "        vertical-align: top;\n",
       "    }\n",
       "\n",
       "    .dataframe thead th {\n",
       "        text-align: right;\n",
       "    }\n",
       "</style>\n",
       "<table border=\"1\" class=\"dataframe\">\n",
       "  <thead>\n",
       "    <tr style=\"text-align: right;\">\n",
       "      <th></th>\n",
       "      <th>category_list</th>\n",
       "      <th>variable</th>\n",
       "      <th>value</th>\n",
       "    </tr>\n",
       "  </thead>\n",
       "  <tbody>\n",
       "    <tr>\n",
       "      <th>7</th>\n",
       "      <td>Adventure Travel</td>\n",
       "      <td>Automotive &amp; Sports</td>\n",
       "      <td>1</td>\n",
       "    </tr>\n",
       "    <tr>\n",
       "      <th>13</th>\n",
       "      <td>Aerospace</td>\n",
       "      <td>Automotive &amp; Sports</td>\n",
       "      <td>1</td>\n",
       "    </tr>\n",
       "    <tr>\n",
       "      <th>44</th>\n",
       "      <td>Auto</td>\n",
       "      <td>Automotive &amp; Sports</td>\n",
       "      <td>1</td>\n",
       "    </tr>\n",
       "    <tr>\n",
       "      <th>45</th>\n",
       "      <td>Automated Kiosk</td>\n",
       "      <td>Automotive &amp; Sports</td>\n",
       "      <td>1</td>\n",
       "    </tr>\n",
       "    <tr>\n",
       "      <th>46</th>\n",
       "      <td>Automotive</td>\n",
       "      <td>Automotive &amp; Sports</td>\n",
       "      <td>1</td>\n",
       "    </tr>\n",
       "  </tbody>\n",
       "</table>\n",
       "</div>"
      ],
      "text/plain": [
       "       category_list             variable  value\n",
       "7   Adventure Travel  Automotive & Sports      1\n",
       "13         Aerospace  Automotive & Sports      1\n",
       "44              Auto  Automotive & Sports      1\n",
       "45   Automated Kiosk  Automotive & Sports      1\n",
       "46        Automotive  Automotive & Sports      1"
      ]
     },
     "execution_count": 44,
     "metadata": {},
     "output_type": "execute_result"
    }
   ],
   "source": [
    "mappings.head()"
   ]
  },
  {
   "cell_type": "markdown",
   "metadata": {
    "id": "22AqzwrJ55Zv"
   },
   "source": [
    "Drop the value column"
   ]
  },
  {
   "cell_type": "code",
   "execution_count": 45,
   "metadata": {
    "id": "gGpOqSHT541r"
   },
   "outputs": [],
   "source": [
    "mappings.drop('value', axis = 1, inplace = True)"
   ]
  },
  {
   "cell_type": "markdown",
   "metadata": {
    "id": "-8nMikE_1Lz5"
   },
   "source": [
    "Rename Column in alignment with master_frame"
   ]
  },
  {
   "cell_type": "code",
   "execution_count": 46,
   "metadata": {
    "id": "FrsW2N7U6QS-"
   },
   "outputs": [],
   "source": [
    "mappings.rename(columns = {'category_list':'primary_category', 'variable':'main_sector'}, inplace = True)"
   ]
  },
  {
   "cell_type": "markdown",
   "metadata": {
    "id": "hWe64oEh1SDS"
   },
   "source": [
    "Remove White spaces"
   ]
  },
  {
   "cell_type": "code",
   "execution_count": 47,
   "metadata": {
    "id": "qvhJWUS56fr7"
   },
   "outputs": [],
   "source": [
    "mappings['primary_category']=mappings['primary_category'].str.strip()"
   ]
  },
  {
   "cell_type": "code",
   "execution_count": 48,
   "metadata": {
    "id": "WrCpXfhl0si0"
   },
   "outputs": [],
   "source": [
    "master_frame['primary_category']=master_frame['primary_category'].str.strip()"
   ]
  },
  {
   "cell_type": "markdown",
   "metadata": {
    "id": "djkMUkNF1XMx"
   },
   "source": [
    "Merge master_frame and mapping so that data from mappings are now shown in master_frame"
   ]
  },
  {
   "cell_type": "code",
   "execution_count": 49,
   "metadata": {
    "id": "u_0YJ7RMuWr_"
   },
   "outputs": [],
   "source": [
    "master_frame=pd.merge(master_frame, mappings, how = 'left', on = 'primary_category')"
   ]
  },
  {
   "cell_type": "code",
   "execution_count": 50,
   "metadata": {
    "colab": {
     "base_uri": "https://localhost:8080/",
     "height": 651
    },
    "id": "4l21d2v1yboY",
    "outputId": "04412882-9674-494a-8fda-6f0e705aaee3"
   },
   "outputs": [
    {
     "data": {
      "text/html": [
       "<div>\n",
       "<style scoped>\n",
       "    .dataframe tbody tr th:only-of-type {\n",
       "        vertical-align: middle;\n",
       "    }\n",
       "\n",
       "    .dataframe tbody tr th {\n",
       "        vertical-align: top;\n",
       "    }\n",
       "\n",
       "    .dataframe thead th {\n",
       "        text-align: right;\n",
       "    }\n",
       "</style>\n",
       "<table border=\"1\" class=\"dataframe\">\n",
       "  <thead>\n",
       "    <tr style=\"text-align: right;\">\n",
       "      <th></th>\n",
       "      <th>company_permalink</th>\n",
       "      <th>funding_round_permalink</th>\n",
       "      <th>funding_round_type</th>\n",
       "      <th>funding_round_code</th>\n",
       "      <th>funded_at</th>\n",
       "      <th>raised_amount_usd</th>\n",
       "      <th>name</th>\n",
       "      <th>homepage_url</th>\n",
       "      <th>category_list</th>\n",
       "      <th>status</th>\n",
       "      <th>country_code</th>\n",
       "      <th>state_code</th>\n",
       "      <th>region</th>\n",
       "      <th>city</th>\n",
       "      <th>founded_at</th>\n",
       "      <th>primary_category</th>\n",
       "      <th>main_sector</th>\n",
       "    </tr>\n",
       "  </thead>\n",
       "  <tbody>\n",
       "    <tr>\n",
       "      <th>0</th>\n",
       "      <td>/organization/-fame</td>\n",
       "      <td>/funding-round/9a01d05418af9f794eebff7ace91f638</td>\n",
       "      <td>venture</td>\n",
       "      <td>B</td>\n",
       "      <td>2015-05-01</td>\n",
       "      <td>10000000.0</td>\n",
       "      <td>#fame</td>\n",
       "      <td>http://livfame.com</td>\n",
       "      <td>Media</td>\n",
       "      <td>operating</td>\n",
       "      <td>IND</td>\n",
       "      <td>16</td>\n",
       "      <td>Mumbai</td>\n",
       "      <td>Mumbai</td>\n",
       "      <td>NaN</td>\n",
       "      <td>Media</td>\n",
       "      <td>Entertainment</td>\n",
       "    </tr>\n",
       "    <tr>\n",
       "      <th>1</th>\n",
       "      <td>/organization/-qounter</td>\n",
       "      <td>/funding-round/22dacff496eb7acb2b901dec1dfe5633</td>\n",
       "      <td>venture</td>\n",
       "      <td>A</td>\n",
       "      <td>2014-10-14</td>\n",
       "      <td>NaN</td>\n",
       "      <td>:Qounter</td>\n",
       "      <td>http://www.qounter.com</td>\n",
       "      <td>Application Platforms|Real Time|Social Network...</td>\n",
       "      <td>operating</td>\n",
       "      <td>USA</td>\n",
       "      <td>DE</td>\n",
       "      <td>DE - Other</td>\n",
       "      <td>Delaware City</td>\n",
       "      <td>04-09-2014</td>\n",
       "      <td>Application Platforms</td>\n",
       "      <td>News, Search and Messaging</td>\n",
       "    </tr>\n",
       "    <tr>\n",
       "      <th>2</th>\n",
       "      <td>/organization/-qounter</td>\n",
       "      <td>/funding-round/b44fbb94153f6cdef13083530bb48030</td>\n",
       "      <td>seed</td>\n",
       "      <td>NaN</td>\n",
       "      <td>2014-01-03</td>\n",
       "      <td>700000.0</td>\n",
       "      <td>:Qounter</td>\n",
       "      <td>http://www.qounter.com</td>\n",
       "      <td>Application Platforms|Real Time|Social Network...</td>\n",
       "      <td>operating</td>\n",
       "      <td>USA</td>\n",
       "      <td>DE</td>\n",
       "      <td>DE - Other</td>\n",
       "      <td>Delaware City</td>\n",
       "      <td>04-09-2014</td>\n",
       "      <td>Application Platforms</td>\n",
       "      <td>News, Search and Messaging</td>\n",
       "    </tr>\n",
       "    <tr>\n",
       "      <th>3</th>\n",
       "      <td>/organization/-the-one-of-them-inc-</td>\n",
       "      <td>/funding-round/650b8f704416801069bb178a1418776b</td>\n",
       "      <td>venture</td>\n",
       "      <td>B</td>\n",
       "      <td>2014-01-30</td>\n",
       "      <td>3406878.0</td>\n",
       "      <td>(THE) ONE of THEM,Inc.</td>\n",
       "      <td>http://oneofthem.jp</td>\n",
       "      <td>Apps|Games|Mobile</td>\n",
       "      <td>operating</td>\n",
       "      <td>NaN</td>\n",
       "      <td>NaN</td>\n",
       "      <td>NaN</td>\n",
       "      <td>NaN</td>\n",
       "      <td>NaN</td>\n",
       "      <td>Apps</td>\n",
       "      <td>News, Search and Messaging</td>\n",
       "    </tr>\n",
       "    <tr>\n",
       "      <th>4</th>\n",
       "      <td>/organization/0-6-com</td>\n",
       "      <td>/funding-round/5727accaeaa57461bd22a9bdd945382d</td>\n",
       "      <td>venture</td>\n",
       "      <td>A</td>\n",
       "      <td>2008-03-19</td>\n",
       "      <td>2000000.0</td>\n",
       "      <td>0-6.com</td>\n",
       "      <td>http://www.0-6.com</td>\n",
       "      <td>Curated Web</td>\n",
       "      <td>operating</td>\n",
       "      <td>CHN</td>\n",
       "      <td>22</td>\n",
       "      <td>Beijing</td>\n",
       "      <td>Beijing</td>\n",
       "      <td>01-01-2007</td>\n",
       "      <td>Curated Web</td>\n",
       "      <td>News, Search and Messaging</td>\n",
       "    </tr>\n",
       "    <tr>\n",
       "      <th>5</th>\n",
       "      <td>/organization/004-technologies</td>\n",
       "      <td>/funding-round/1278dd4e6a37fa4b7d7e06c21b3c1830</td>\n",
       "      <td>venture</td>\n",
       "      <td>NaN</td>\n",
       "      <td>2014-07-24</td>\n",
       "      <td>NaN</td>\n",
       "      <td>004 Technologies</td>\n",
       "      <td>http://004gmbh.de/en/004-interact</td>\n",
       "      <td>Software</td>\n",
       "      <td>operating</td>\n",
       "      <td>USA</td>\n",
       "      <td>IL</td>\n",
       "      <td>Springfield, Illinois</td>\n",
       "      <td>Champaign</td>\n",
       "      <td>01-01-2010</td>\n",
       "      <td>Software</td>\n",
       "      <td>Others</td>\n",
       "    </tr>\n",
       "    <tr>\n",
       "      <th>6</th>\n",
       "      <td>/organization/01games-technology</td>\n",
       "      <td>/funding-round/7d53696f2b4f607a2f2a8cbb83d01839</td>\n",
       "      <td>undisclosed</td>\n",
       "      <td>NaN</td>\n",
       "      <td>2014-01-07</td>\n",
       "      <td>41250.0</td>\n",
       "      <td>01Games Technology</td>\n",
       "      <td>http://www.01games.hk/</td>\n",
       "      <td>Games</td>\n",
       "      <td>operating</td>\n",
       "      <td>HKG</td>\n",
       "      <td>NaN</td>\n",
       "      <td>Hong Kong</td>\n",
       "      <td>Hong Kong</td>\n",
       "      <td>NaN</td>\n",
       "      <td>Games</td>\n",
       "      <td>Entertainment</td>\n",
       "    </tr>\n",
       "    <tr>\n",
       "      <th>7</th>\n",
       "      <td>/organization/0ndine-biomedical-inc</td>\n",
       "      <td>/funding-round/2b9d3ac293d5cdccbecff5c8cb0f327d</td>\n",
       "      <td>seed</td>\n",
       "      <td>NaN</td>\n",
       "      <td>2009-11-09</td>\n",
       "      <td>43360.0</td>\n",
       "      <td>Ondine Biomedical Inc.</td>\n",
       "      <td>http://ondinebio.com</td>\n",
       "      <td>Biotechnology</td>\n",
       "      <td>operating</td>\n",
       "      <td>CAN</td>\n",
       "      <td>BC</td>\n",
       "      <td>Vancouver</td>\n",
       "      <td>Vancouver</td>\n",
       "      <td>01-01-1997</td>\n",
       "      <td>Biotechnology</td>\n",
       "      <td>Cleantech / Semiconductors</td>\n",
       "    </tr>\n",
       "    <tr>\n",
       "      <th>8</th>\n",
       "      <td>/organization/0ndine-biomedical-inc</td>\n",
       "      <td>/funding-round/954b9499724b946ad8c396a57a5f3b72</td>\n",
       "      <td>venture</td>\n",
       "      <td>NaN</td>\n",
       "      <td>2009-12-21</td>\n",
       "      <td>719491.0</td>\n",
       "      <td>Ondine Biomedical Inc.</td>\n",
       "      <td>http://ondinebio.com</td>\n",
       "      <td>Biotechnology</td>\n",
       "      <td>operating</td>\n",
       "      <td>CAN</td>\n",
       "      <td>BC</td>\n",
       "      <td>Vancouver</td>\n",
       "      <td>Vancouver</td>\n",
       "      <td>01-01-1997</td>\n",
       "      <td>Biotechnology</td>\n",
       "      <td>Cleantech / Semiconductors</td>\n",
       "    </tr>\n",
       "    <tr>\n",
       "      <th>9</th>\n",
       "      <td>/organization/0xdata</td>\n",
       "      <td>/funding-round/383a9bd2c04f7038bb543ccef5ba3eae</td>\n",
       "      <td>seed</td>\n",
       "      <td>NaN</td>\n",
       "      <td>2013-05-22</td>\n",
       "      <td>3000000.0</td>\n",
       "      <td>H2O.ai</td>\n",
       "      <td>http://h2o.ai/</td>\n",
       "      <td>Analytics</td>\n",
       "      <td>operating</td>\n",
       "      <td>USA</td>\n",
       "      <td>CA</td>\n",
       "      <td>SF Bay Area</td>\n",
       "      <td>Mountain View</td>\n",
       "      <td>01-01-2011</td>\n",
       "      <td>Analytics</td>\n",
       "      <td>NaN</td>\n",
       "    </tr>\n",
       "  </tbody>\n",
       "</table>\n",
       "</div>"
      ],
      "text/plain": [
       "                     company_permalink  \\\n",
       "0                  /organization/-fame   \n",
       "1               /organization/-qounter   \n",
       "2               /organization/-qounter   \n",
       "3  /organization/-the-one-of-them-inc-   \n",
       "4                /organization/0-6-com   \n",
       "5       /organization/004-technologies   \n",
       "6     /organization/01games-technology   \n",
       "7  /organization/0ndine-biomedical-inc   \n",
       "8  /organization/0ndine-biomedical-inc   \n",
       "9                 /organization/0xdata   \n",
       "\n",
       "                           funding_round_permalink funding_round_type  \\\n",
       "0  /funding-round/9a01d05418af9f794eebff7ace91f638            venture   \n",
       "1  /funding-round/22dacff496eb7acb2b901dec1dfe5633            venture   \n",
       "2  /funding-round/b44fbb94153f6cdef13083530bb48030               seed   \n",
       "3  /funding-round/650b8f704416801069bb178a1418776b            venture   \n",
       "4  /funding-round/5727accaeaa57461bd22a9bdd945382d            venture   \n",
       "5  /funding-round/1278dd4e6a37fa4b7d7e06c21b3c1830            venture   \n",
       "6  /funding-round/7d53696f2b4f607a2f2a8cbb83d01839        undisclosed   \n",
       "7  /funding-round/2b9d3ac293d5cdccbecff5c8cb0f327d               seed   \n",
       "8  /funding-round/954b9499724b946ad8c396a57a5f3b72            venture   \n",
       "9  /funding-round/383a9bd2c04f7038bb543ccef5ba3eae               seed   \n",
       "\n",
       "  funding_round_code  funded_at  raised_amount_usd                    name  \\\n",
       "0                  B 2015-05-01         10000000.0                   #fame   \n",
       "1                  A 2014-10-14                NaN                :Qounter   \n",
       "2                NaN 2014-01-03           700000.0                :Qounter   \n",
       "3                  B 2014-01-30          3406878.0  (THE) ONE of THEM,Inc.   \n",
       "4                  A 2008-03-19          2000000.0                 0-6.com   \n",
       "5                NaN 2014-07-24                NaN        004 Technologies   \n",
       "6                NaN 2014-01-07            41250.0      01Games Technology   \n",
       "7                NaN 2009-11-09            43360.0  Ondine Biomedical Inc.   \n",
       "8                NaN 2009-12-21           719491.0  Ondine Biomedical Inc.   \n",
       "9                NaN 2013-05-22          3000000.0                  H2O.ai   \n",
       "\n",
       "                        homepage_url  \\\n",
       "0                 http://livfame.com   \n",
       "1             http://www.qounter.com   \n",
       "2             http://www.qounter.com   \n",
       "3                http://oneofthem.jp   \n",
       "4                 http://www.0-6.com   \n",
       "5  http://004gmbh.de/en/004-interact   \n",
       "6             http://www.01games.hk/   \n",
       "7               http://ondinebio.com   \n",
       "8               http://ondinebio.com   \n",
       "9                     http://h2o.ai/   \n",
       "\n",
       "                                       category_list     status country_code  \\\n",
       "0                                              Media  operating          IND   \n",
       "1  Application Platforms|Real Time|Social Network...  operating          USA   \n",
       "2  Application Platforms|Real Time|Social Network...  operating          USA   \n",
       "3                                  Apps|Games|Mobile  operating          NaN   \n",
       "4                                        Curated Web  operating          CHN   \n",
       "5                                           Software  operating          USA   \n",
       "6                                              Games  operating          HKG   \n",
       "7                                      Biotechnology  operating          CAN   \n",
       "8                                      Biotechnology  operating          CAN   \n",
       "9                                          Analytics  operating          USA   \n",
       "\n",
       "  state_code                 region           city  founded_at  \\\n",
       "0         16                 Mumbai         Mumbai         NaN   \n",
       "1         DE             DE - Other  Delaware City  04-09-2014   \n",
       "2         DE             DE - Other  Delaware City  04-09-2014   \n",
       "3        NaN                    NaN            NaN         NaN   \n",
       "4         22                Beijing        Beijing  01-01-2007   \n",
       "5         IL  Springfield, Illinois      Champaign  01-01-2010   \n",
       "6        NaN              Hong Kong      Hong Kong         NaN   \n",
       "7         BC              Vancouver      Vancouver  01-01-1997   \n",
       "8         BC              Vancouver      Vancouver  01-01-1997   \n",
       "9         CA            SF Bay Area  Mountain View  01-01-2011   \n",
       "\n",
       "        primary_category                 main_sector  \n",
       "0                  Media               Entertainment  \n",
       "1  Application Platforms  News, Search and Messaging  \n",
       "2  Application Platforms  News, Search and Messaging  \n",
       "3                   Apps  News, Search and Messaging  \n",
       "4            Curated Web  News, Search and Messaging  \n",
       "5               Software                      Others  \n",
       "6                  Games               Entertainment  \n",
       "7          Biotechnology  Cleantech / Semiconductors  \n",
       "8          Biotechnology  Cleantech / Semiconductors  \n",
       "9              Analytics                         NaN  "
      ]
     },
     "execution_count": 50,
     "metadata": {},
     "output_type": "execute_result"
    }
   ],
   "source": [
    "master_frame.head(10)"
   ]
  },
  {
   "cell_type": "markdown",
   "metadata": {
    "id": "43QLFVW0BjTX"
   },
   "source": [
    "Filtering the data for sparkfund based on the below conditions:\n",
    "\n",
    "\n",
    "1.   Amount invested is between 5 million to 15 million\n",
    "2.   Top 3 English Speaking countries\n",
    "\n"
   ]
  },
  {
   "cell_type": "code",
   "execution_count": 51,
   "metadata": {
    "id": "pZqmK8I7_N-M"
   },
   "outputs": [],
   "source": [
    "sparkfund=master_frame[(master_frame['raised_amount_usd']>= 5000000) & (master_frame['raised_amount_usd']<=15000000) & ((master_frame['country_code'] == 'USA')\n",
    "                            | (master_frame['country_code'] == 'GBR')\n",
    "                            | (master_frame['country_code'] == 'IND'))]"
   ]
  },
  {
   "cell_type": "code",
   "execution_count": 52,
   "metadata": {
    "colab": {
     "base_uri": "https://localhost:8080/",
     "height": 360
    },
    "id": "vNBnOvNRDhU2",
    "outputId": "6ad0d8b7-3634-40ab-f0cf-3a3c491b6a78"
   },
   "outputs": [
    {
     "data": {
      "text/html": [
       "<div>\n",
       "<style scoped>\n",
       "    .dataframe tbody tr th:only-of-type {\n",
       "        vertical-align: middle;\n",
       "    }\n",
       "\n",
       "    .dataframe tbody tr th {\n",
       "        vertical-align: top;\n",
       "    }\n",
       "\n",
       "    .dataframe thead th {\n",
       "        text-align: right;\n",
       "    }\n",
       "</style>\n",
       "<table border=\"1\" class=\"dataframe\">\n",
       "  <thead>\n",
       "    <tr style=\"text-align: right;\">\n",
       "      <th></th>\n",
       "      <th>company_permalink</th>\n",
       "      <th>funding_round_permalink</th>\n",
       "      <th>funding_round_type</th>\n",
       "      <th>funding_round_code</th>\n",
       "      <th>funded_at</th>\n",
       "      <th>raised_amount_usd</th>\n",
       "      <th>name</th>\n",
       "      <th>homepage_url</th>\n",
       "      <th>category_list</th>\n",
       "      <th>status</th>\n",
       "      <th>country_code</th>\n",
       "      <th>state_code</th>\n",
       "      <th>region</th>\n",
       "      <th>city</th>\n",
       "      <th>founded_at</th>\n",
       "      <th>primary_category</th>\n",
       "      <th>main_sector</th>\n",
       "    </tr>\n",
       "  </thead>\n",
       "  <tbody>\n",
       "    <tr>\n",
       "      <th>0</th>\n",
       "      <td>/organization/-fame</td>\n",
       "      <td>/funding-round/9a01d05418af9f794eebff7ace91f638</td>\n",
       "      <td>venture</td>\n",
       "      <td>B</td>\n",
       "      <td>2015-05-01</td>\n",
       "      <td>10000000.0</td>\n",
       "      <td>#fame</td>\n",
       "      <td>http://livfame.com</td>\n",
       "      <td>Media</td>\n",
       "      <td>operating</td>\n",
       "      <td>IND</td>\n",
       "      <td>16</td>\n",
       "      <td>Mumbai</td>\n",
       "      <td>Mumbai</td>\n",
       "      <td>NaN</td>\n",
       "      <td>Media</td>\n",
       "      <td>Entertainment</td>\n",
       "    </tr>\n",
       "    <tr>\n",
       "      <th>12</th>\n",
       "      <td>/organization/0xdata</td>\n",
       "      <td>/funding-round/e1cfcbe1bdf4c70277c5f29a3482f24e</td>\n",
       "      <td>venture</td>\n",
       "      <td>A</td>\n",
       "      <td>2014-07-19</td>\n",
       "      <td>8900000.0</td>\n",
       "      <td>H2O.ai</td>\n",
       "      <td>http://h2o.ai/</td>\n",
       "      <td>Analytics</td>\n",
       "      <td>operating</td>\n",
       "      <td>USA</td>\n",
       "      <td>CA</td>\n",
       "      <td>SF Bay Area</td>\n",
       "      <td>Mountain View</td>\n",
       "      <td>01-01-2011</td>\n",
       "      <td>Analytics</td>\n",
       "      <td>NaN</td>\n",
       "    </tr>\n",
       "    <tr>\n",
       "      <th>21</th>\n",
       "      <td>/organization/1-800-publicrelations-inc-</td>\n",
       "      <td>/funding-round/11c228f58831bc7ed337ef69ecc560c2</td>\n",
       "      <td>private_equity</td>\n",
       "      <td>NaN</td>\n",
       "      <td>2015-01-02</td>\n",
       "      <td>6000000.0</td>\n",
       "      <td>1-800-PublicRelations, Inc.</td>\n",
       "      <td>http://www.1800publicrelations.com</td>\n",
       "      <td>Internet Marketing|Media|Public Relations</td>\n",
       "      <td>operating</td>\n",
       "      <td>USA</td>\n",
       "      <td>NY</td>\n",
       "      <td>New York City</td>\n",
       "      <td>New York</td>\n",
       "      <td>24-10-2013</td>\n",
       "      <td>Internet Marketing</td>\n",
       "      <td>Social, Finance, Analytics, Advertising</td>\n",
       "    </tr>\n",
       "    <tr>\n",
       "      <th>22</th>\n",
       "      <td>/organization/1-mainstream</td>\n",
       "      <td>/funding-round/b952cbaf401f310927430c97b68162ea</td>\n",
       "      <td>venture</td>\n",
       "      <td>NaN</td>\n",
       "      <td>2015-03-17</td>\n",
       "      <td>5000000.0</td>\n",
       "      <td>1 Mainstream</td>\n",
       "      <td>http://www.1mainstream.com</td>\n",
       "      <td>Apps|Cable|Distribution|Software</td>\n",
       "      <td>acquired</td>\n",
       "      <td>USA</td>\n",
       "      <td>CA</td>\n",
       "      <td>SF Bay Area</td>\n",
       "      <td>Cupertino</td>\n",
       "      <td>01-03-2012</td>\n",
       "      <td>Apps</td>\n",
       "      <td>News, Search and Messaging</td>\n",
       "    </tr>\n",
       "    <tr>\n",
       "      <th>103</th>\n",
       "      <td>/organization/128-technology</td>\n",
       "      <td>/funding-round/fb6216a30cb566ede89e0bee0623a634</td>\n",
       "      <td>venture</td>\n",
       "      <td>NaN</td>\n",
       "      <td>2014-12-16</td>\n",
       "      <td>11999347.0</td>\n",
       "      <td>128 Technology</td>\n",
       "      <td>http://www.128technology.com/</td>\n",
       "      <td>Service Providers|Technology</td>\n",
       "      <td>operating</td>\n",
       "      <td>USA</td>\n",
       "      <td>MA</td>\n",
       "      <td>Boston</td>\n",
       "      <td>Burlington</td>\n",
       "      <td>07-07-2014</td>\n",
       "      <td>Service Providers</td>\n",
       "      <td>Others</td>\n",
       "    </tr>\n",
       "  </tbody>\n",
       "</table>\n",
       "</div>"
      ],
      "text/plain": [
       "                            company_permalink  \\\n",
       "0                         /organization/-fame   \n",
       "12                       /organization/0xdata   \n",
       "21   /organization/1-800-publicrelations-inc-   \n",
       "22                 /organization/1-mainstream   \n",
       "103              /organization/128-technology   \n",
       "\n",
       "                             funding_round_permalink funding_round_type  \\\n",
       "0    /funding-round/9a01d05418af9f794eebff7ace91f638            venture   \n",
       "12   /funding-round/e1cfcbe1bdf4c70277c5f29a3482f24e            venture   \n",
       "21   /funding-round/11c228f58831bc7ed337ef69ecc560c2     private_equity   \n",
       "22   /funding-round/b952cbaf401f310927430c97b68162ea            venture   \n",
       "103  /funding-round/fb6216a30cb566ede89e0bee0623a634            venture   \n",
       "\n",
       "    funding_round_code  funded_at  raised_amount_usd  \\\n",
       "0                    B 2015-05-01         10000000.0   \n",
       "12                   A 2014-07-19          8900000.0   \n",
       "21                 NaN 2015-01-02          6000000.0   \n",
       "22                 NaN 2015-03-17          5000000.0   \n",
       "103                NaN 2014-12-16         11999347.0   \n",
       "\n",
       "                            name                        homepage_url  \\\n",
       "0                          #fame                  http://livfame.com   \n",
       "12                        H2O.ai                      http://h2o.ai/   \n",
       "21   1-800-PublicRelations, Inc.  http://www.1800publicrelations.com   \n",
       "22                  1 Mainstream          http://www.1mainstream.com   \n",
       "103               128 Technology       http://www.128technology.com/   \n",
       "\n",
       "                                 category_list     status country_code  \\\n",
       "0                                        Media  operating          IND   \n",
       "12                                   Analytics  operating          USA   \n",
       "21   Internet Marketing|Media|Public Relations  operating          USA   \n",
       "22            Apps|Cable|Distribution|Software   acquired          USA   \n",
       "103               Service Providers|Technology  operating          USA   \n",
       "\n",
       "    state_code         region           city  founded_at    primary_category  \\\n",
       "0           16         Mumbai         Mumbai         NaN               Media   \n",
       "12          CA    SF Bay Area  Mountain View  01-01-2011           Analytics   \n",
       "21          NY  New York City       New York  24-10-2013  Internet Marketing   \n",
       "22          CA    SF Bay Area      Cupertino  01-03-2012                Apps   \n",
       "103         MA         Boston     Burlington  07-07-2014   Service Providers   \n",
       "\n",
       "                                 main_sector  \n",
       "0                              Entertainment  \n",
       "12                                       NaN  \n",
       "21   Social, Finance, Analytics, Advertising  \n",
       "22                News, Search and Messaging  \n",
       "103                                   Others  "
      ]
     },
     "execution_count": 52,
     "metadata": {},
     "output_type": "execute_result"
    }
   ],
   "source": [
    "#check the head\n",
    "sparkfund.head()"
   ]
  },
  {
   "cell_type": "code",
   "execution_count": 53,
   "metadata": {
    "colab": {
     "base_uri": "https://localhost:8080/"
    },
    "id": "1vY3PTxBDnKG",
    "outputId": "b2368073-4d88-4474-8dfe-efc6ec145cda"
   },
   "outputs": [
    {
     "data": {
      "text/plain": [
       "company_permalink             0\n",
       "funding_round_permalink       0\n",
       "funding_round_type            0\n",
       "funding_round_code         5619\n",
       "funded_at                     0\n",
       "raised_amount_usd             0\n",
       "name                          0\n",
       "homepage_url                697\n",
       "category_list               118\n",
       "status                        0\n",
       "country_code                  0\n",
       "state_code                   21\n",
       "region                       51\n",
       "city                         51\n",
       "founded_at                 2240\n",
       "primary_category            118\n",
       "main_sector                1240\n",
       "dtype: int64"
      ]
     },
     "execution_count": 53,
     "metadata": {},
     "output_type": "execute_result"
    }
   ],
   "source": [
    "#check null values\n",
    "sparkfund.isnull().sum()"
   ]
  },
  {
   "cell_type": "markdown",
   "metadata": {
    "id": "IDV0KpsmD4up"
   },
   "source": [
    "Remove rows having main_sector as null"
   ]
  },
  {
   "cell_type": "code",
   "execution_count": 54,
   "metadata": {
    "id": "8TfSL8YGD32l"
   },
   "outputs": [],
   "source": [
    "sparkfund = sparkfund[~(sparkfund.main_sector.isnull())]"
   ]
  },
  {
   "cell_type": "code",
   "execution_count": 55,
   "metadata": {
    "colab": {
     "base_uri": "https://localhost:8080/"
    },
    "id": "J1_yhIBoEPVN",
    "outputId": "ec0a2f3b-d391-45ee-a2b9-bb906fee4f22"
   },
   "outputs": [
    {
     "data": {
      "text/plain": [
       "company_permalink             0\n",
       "funding_round_permalink       0\n",
       "funding_round_type            0\n",
       "funding_round_code         5212\n",
       "funded_at                     0\n",
       "raised_amount_usd             0\n",
       "name                          0\n",
       "homepage_url                636\n",
       "category_list                 0\n",
       "status                        0\n",
       "country_code                  0\n",
       "state_code                   20\n",
       "region                       48\n",
       "city                         48\n",
       "founded_at                 2055\n",
       "primary_category              0\n",
       "main_sector                   0\n",
       "dtype: int64"
      ]
     },
     "execution_count": 55,
     "metadata": {},
     "output_type": "execute_result"
    }
   ],
   "source": [
    "sparkfund.isnull().sum()"
   ]
  },
  {
   "cell_type": "markdown",
   "metadata": {
    "id": "-9BX6hbM1yF2"
   },
   "source": [
    "Create 3 dataframes D1,D2,D3 for Top 3 English Speaking Countries i.e. USA,IND,GBR"
   ]
  },
  {
   "cell_type": "code",
   "execution_count": 56,
   "metadata": {
    "id": "hn1RtfcGESO5"
   },
   "outputs": [],
   "source": [
    "D1=sparkfund[sparkfund['country_code']==\"USA\"]"
   ]
  },
  {
   "cell_type": "code",
   "execution_count": 57,
   "metadata": {
    "id": "al2-2Y52I7US"
   },
   "outputs": [],
   "source": [
    "D2=sparkfund[sparkfund['country_code']==\"IND\"]"
   ]
  },
  {
   "cell_type": "code",
   "execution_count": 58,
   "metadata": {
    "id": "a9YNyMadJEON"
   },
   "outputs": [],
   "source": [
    "D3=sparkfund[sparkfund['country_code']==\"GBR\"]"
   ]
  },
  {
   "cell_type": "code",
   "execution_count": 59,
   "metadata": {
    "colab": {
     "base_uri": "https://localhost:8080/"
    },
    "id": "euG5426sJIKl",
    "outputId": "2d7e1124-25bb-4760-ad01-7f8ca00025d1"
   },
   "outputs": [
    {
     "name": "stdout",
     "output_type": "stream",
     "text": [
      "12668\n",
      "313\n",
      "701\n"
     ]
    }
   ],
   "source": [
    "#Total number of investments (count)\n",
    "print(D1.raised_amount_usd.count())\n",
    "print(D2.raised_amount_usd.count())\n",
    "print(D3.raised_amount_usd.count())"
   ]
  },
  {
   "cell_type": "code",
   "execution_count": 60,
   "metadata": {
    "colab": {
     "base_uri": "https://localhost:8080/"
    },
    "id": "2Z23puFgKfMu",
    "outputId": "6fc609bd-61c8-4fb8-b303-f367460996ed"
   },
   "outputs": [
    {
     "name": "stdout",
     "output_type": "stream",
     "text": [
      "112378342309.0\n",
      "2788256313.0\n",
      "6060073536.0\n"
     ]
    }
   ],
   "source": [
    "#Total amount of investment (USD)\n",
    "print(D1.raised_amount_usd.sum())\n",
    "print(D2.raised_amount_usd.sum())\n",
    "print(D3.raised_amount_usd.sum())"
   ]
  },
  {
   "cell_type": "markdown",
   "metadata": {
    "id": "tdeh-IG1Q7t-"
   },
   "source": [
    "Sector Wise Analysis for C1=USA\n"
   ]
  },
  {
   "cell_type": "code",
   "execution_count": 61,
   "metadata": {
    "id": "h3aB2wC1L3Bw"
   },
   "outputs": [],
   "source": [
    "#dataframe for countwise data\n",
    "D1_Count=pd.DataFrame(D1[['main_sector','raised_amount_usd']].groupby('main_sector').count().sort_values(by='raised_amount_usd',ascending=False))"
   ]
  },
  {
   "cell_type": "code",
   "execution_count": 62,
   "metadata": {
    "id": "UT3vDtNqs7Qe"
   },
   "outputs": [],
   "source": [
    "#reset index\n",
    "D1_Count.reset_index(inplace=True)"
   ]
  },
  {
   "cell_type": "code",
   "execution_count": 63,
   "metadata": {
    "colab": {
     "base_uri": "https://localhost:8080/",
     "height": 142
    },
    "id": "0mHIo09WtI8z",
    "outputId": "1f7a204f-d2bf-4390-830b-cf55cdd5d5f6"
   },
   "outputs": [
    {
     "data": {
      "text/html": [
       "<div>\n",
       "<style scoped>\n",
       "    .dataframe tbody tr th:only-of-type {\n",
       "        vertical-align: middle;\n",
       "    }\n",
       "\n",
       "    .dataframe tbody tr th {\n",
       "        vertical-align: top;\n",
       "    }\n",
       "\n",
       "    .dataframe thead th {\n",
       "        text-align: right;\n",
       "    }\n",
       "</style>\n",
       "<table border=\"1\" class=\"dataframe\">\n",
       "  <thead>\n",
       "    <tr style=\"text-align: right;\">\n",
       "      <th></th>\n",
       "      <th>main_sector</th>\n",
       "      <th>raised_amount_usd</th>\n",
       "    </tr>\n",
       "  </thead>\n",
       "  <tbody>\n",
       "    <tr>\n",
       "      <th>0</th>\n",
       "      <td>Others</td>\n",
       "      <td>3267</td>\n",
       "    </tr>\n",
       "    <tr>\n",
       "      <th>1</th>\n",
       "      <td>Cleantech / Semiconductors</td>\n",
       "      <td>2792</td>\n",
       "    </tr>\n",
       "    <tr>\n",
       "      <th>2</th>\n",
       "      <td>Social, Finance, Analytics, Advertising</td>\n",
       "      <td>2086</td>\n",
       "    </tr>\n",
       "  </tbody>\n",
       "</table>\n",
       "</div>"
      ],
      "text/plain": [
       "                               main_sector  raised_amount_usd\n",
       "0                                   Others               3267\n",
       "1               Cleantech / Semiconductors               2792\n",
       "2  Social, Finance, Analytics, Advertising               2086"
      ]
     },
     "execution_count": 63,
     "metadata": {},
     "output_type": "execute_result"
    }
   ],
   "source": [
    "#check the head\n",
    "D1_Count.head(3)"
   ]
  },
  {
   "cell_type": "markdown",
   "metadata": {
    "id": "CIYeYoTK2ZN7"
   },
   "source": [
    "Select Data for Top2 Sectors"
   ]
  },
  {
   "cell_type": "code",
   "execution_count": 64,
   "metadata": {
    "id": "bhOoFGa2Uph-"
   },
   "outputs": [],
   "source": [
    "D1_company1=D1[D1['main_sector']=='Others']\n",
    "D1_company2=D1[D1['main_sector']=='Cleantech / Semiconductors']"
   ]
  },
  {
   "cell_type": "code",
   "execution_count": 65,
   "metadata": {
    "colab": {
     "base_uri": "https://localhost:8080/",
     "height": 111
    },
    "id": "jCSgvDkvVOxR",
    "outputId": "ede6312b-786b-4276-cb07-63c54cc850fe"
   },
   "outputs": [
    {
     "data": {
      "text/html": [
       "<div>\n",
       "<style scoped>\n",
       "    .dataframe tbody tr th:only-of-type {\n",
       "        vertical-align: middle;\n",
       "    }\n",
       "\n",
       "    .dataframe tbody tr th {\n",
       "        vertical-align: top;\n",
       "    }\n",
       "\n",
       "    .dataframe thead th {\n",
       "        text-align: right;\n",
       "    }\n",
       "</style>\n",
       "<table border=\"1\" class=\"dataframe\">\n",
       "  <thead>\n",
       "    <tr style=\"text-align: right;\">\n",
       "      <th></th>\n",
       "      <th>raised_amount_usd</th>\n",
       "    </tr>\n",
       "    <tr>\n",
       "      <th>company_permalink</th>\n",
       "      <th></th>\n",
       "    </tr>\n",
       "  </thead>\n",
       "  <tbody>\n",
       "    <tr>\n",
       "      <th>/organization/emory-university</th>\n",
       "      <td>81500000.0</td>\n",
       "    </tr>\n",
       "  </tbody>\n",
       "</table>\n",
       "</div>"
      ],
      "text/plain": [
       "                                raised_amount_usd\n",
       "company_permalink                                \n",
       "/organization/emory-university         81500000.0"
      ]
     },
     "execution_count": 65,
     "metadata": {},
     "output_type": "execute_result"
    }
   ],
   "source": [
    "#top company in 1st sector\n",
    "D1_company1[['company_permalink','raised_amount_usd']].groupby('company_permalink').sum().sort_values(by='raised_amount_usd',ascending=False).head(1)"
   ]
  },
  {
   "cell_type": "code",
   "execution_count": 66,
   "metadata": {
    "colab": {
     "base_uri": "https://localhost:8080/",
     "height": 111
    },
    "id": "dIpEiLhSWc4S",
    "outputId": "48df62fc-24cf-4e92-a4e8-970bf2de70f9"
   },
   "outputs": [
    {
     "data": {
      "text/html": [
       "<div>\n",
       "<style scoped>\n",
       "    .dataframe tbody tr th:only-of-type {\n",
       "        vertical-align: middle;\n",
       "    }\n",
       "\n",
       "    .dataframe tbody tr th {\n",
       "        vertical-align: top;\n",
       "    }\n",
       "\n",
       "    .dataframe thead th {\n",
       "        text-align: right;\n",
       "    }\n",
       "</style>\n",
       "<table border=\"1\" class=\"dataframe\">\n",
       "  <thead>\n",
       "    <tr style=\"text-align: right;\">\n",
       "      <th></th>\n",
       "      <th>raised_amount_usd</th>\n",
       "    </tr>\n",
       "    <tr>\n",
       "      <th>company_permalink</th>\n",
       "      <th></th>\n",
       "    </tr>\n",
       "  </thead>\n",
       "  <tbody>\n",
       "    <tr>\n",
       "      <th>/organization/biodesix</th>\n",
       "      <td>75300000.0</td>\n",
       "    </tr>\n",
       "  </tbody>\n",
       "</table>\n",
       "</div>"
      ],
      "text/plain": [
       "                        raised_amount_usd\n",
       "company_permalink                        \n",
       "/organization/biodesix         75300000.0"
      ]
     },
     "execution_count": 66,
     "metadata": {},
     "output_type": "execute_result"
    }
   ],
   "source": [
    "#top company in 2nd sector\n",
    "D1_company2[['company_permalink','raised_amount_usd']].groupby('company_permalink').sum().sort_values(by='raised_amount_usd',ascending=False).head(1)"
   ]
  },
  {
   "cell_type": "code",
   "execution_count": 97,
   "metadata": {
    "colab": {
     "base_uri": "https://localhost:8080/"
    },
    "id": "rmXt83qMYjYs",
    "outputId": "fdfb9c35-b62f-45dd-f32c-ccb149cd1560"
   },
   "outputs": [
    {
     "name": "stdout",
     "output_type": "stream",
     "text": [
      "31410    Emory University\n",
      "Name: name, dtype: object\n"
     ]
    }
   ],
   "source": [
    "#Check Company Names from permalink derived from abocve code\n",
    "print(D1[D1['company_permalink']=='/organization/emory-university'].name.head(1))"
   ]
  },
  {
   "cell_type": "code",
   "execution_count": 98,
   "metadata": {
    "colab": {
     "base_uri": "https://localhost:8080/"
    },
    "id": "rmXt83qMYjYs",
    "outputId": "fdfb9c35-b62f-45dd-f32c-ccb149cd1560"
   },
   "outputs": [
    {
     "name": "stdout",
     "output_type": "stream",
     "text": [
      "12189    Biodesix\n",
      "Name: name, dtype: object\n"
     ]
    }
   ],
   "source": [
    "print(D1[D1['company_permalink']=='/organization/biodesix'].name.head(1))"
   ]
  },
  {
   "cell_type": "markdown",
   "metadata": {
    "id": "QJD7W8O-YXj7"
   },
   "source": [
    "Sector Wise Analysis for C2=IND"
   ]
  },
  {
   "cell_type": "code",
   "execution_count": 68,
   "metadata": {
    "colab": {
     "base_uri": "https://localhost:8080/",
     "height": 142
    },
    "id": "0Kv3d58dMFKY",
    "outputId": "daaeeb7f-c4ae-431f-d86f-125be08a8736"
   },
   "outputs": [
    {
     "data": {
      "text/html": [
       "<div>\n",
       "<style scoped>\n",
       "    .dataframe tbody tr th:only-of-type {\n",
       "        vertical-align: middle;\n",
       "    }\n",
       "\n",
       "    .dataframe tbody tr th {\n",
       "        vertical-align: top;\n",
       "    }\n",
       "\n",
       "    .dataframe thead th {\n",
       "        text-align: right;\n",
       "    }\n",
       "</style>\n",
       "<table border=\"1\" class=\"dataframe\">\n",
       "  <thead>\n",
       "    <tr style=\"text-align: right;\">\n",
       "      <th></th>\n",
       "      <th>main_sector</th>\n",
       "      <th>raised_amount_usd</th>\n",
       "    </tr>\n",
       "  </thead>\n",
       "  <tbody>\n",
       "    <tr>\n",
       "      <th>0</th>\n",
       "      <td>Others</td>\n",
       "      <td>115</td>\n",
       "    </tr>\n",
       "    <tr>\n",
       "      <th>1</th>\n",
       "      <td>News, Search and Messaging</td>\n",
       "      <td>53</td>\n",
       "    </tr>\n",
       "    <tr>\n",
       "      <th>2</th>\n",
       "      <td>Social, Finance, Analytics, Advertising</td>\n",
       "      <td>35</td>\n",
       "    </tr>\n",
       "  </tbody>\n",
       "</table>\n",
       "</div>"
      ],
      "text/plain": [
       "                               main_sector  raised_amount_usd\n",
       "0                                   Others                115\n",
       "1               News, Search and Messaging                 53\n",
       "2  Social, Finance, Analytics, Advertising                 35"
      ]
     },
     "execution_count": 68,
     "metadata": {},
     "output_type": "execute_result"
    }
   ],
   "source": [
    "#dataframe for countwise data\n",
    "\n",
    "D2_Count=pd.DataFrame(D2[['main_sector','raised_amount_usd']].groupby('main_sector').count().sort_values(by='raised_amount_usd',ascending=False))\n",
    "D2_Count.reset_index(inplace=True)\n",
    "D2_Count.head(3)"
   ]
  },
  {
   "cell_type": "code",
   "execution_count": 69,
   "metadata": {
    "id": "_yGnnR2mW5DR"
   },
   "outputs": [],
   "source": [
    "#Select Data for Top2 Sectors\n",
    "D2_company1=D2[D2['main_sector']=='Others']\n",
    "D2_company2=D2[D2['main_sector']=='News, Search and Messaging']"
   ]
  },
  {
   "cell_type": "code",
   "execution_count": 70,
   "metadata": {
    "colab": {
     "base_uri": "https://localhost:8080/",
     "height": 111
    },
    "id": "JvKBNEzIW-qg",
    "outputId": "0e2850e1-cd1b-42ed-e8c8-d05b0b1b0666"
   },
   "outputs": [
    {
     "data": {
      "text/html": [
       "<div>\n",
       "<style scoped>\n",
       "    .dataframe tbody tr th:only-of-type {\n",
       "        vertical-align: middle;\n",
       "    }\n",
       "\n",
       "    .dataframe tbody tr th {\n",
       "        vertical-align: top;\n",
       "    }\n",
       "\n",
       "    .dataframe thead th {\n",
       "        text-align: right;\n",
       "    }\n",
       "</style>\n",
       "<table border=\"1\" class=\"dataframe\">\n",
       "  <thead>\n",
       "    <tr style=\"text-align: right;\">\n",
       "      <th></th>\n",
       "      <th>raised_amount_usd</th>\n",
       "    </tr>\n",
       "    <tr>\n",
       "      <th>company_permalink</th>\n",
       "      <th></th>\n",
       "    </tr>\n",
       "  </thead>\n",
       "  <tbody>\n",
       "    <tr>\n",
       "      <th>/organization/firstcry-com</th>\n",
       "      <td>39000000.0</td>\n",
       "    </tr>\n",
       "  </tbody>\n",
       "</table>\n",
       "</div>"
      ],
      "text/plain": [
       "                            raised_amount_usd\n",
       "company_permalink                            \n",
       "/organization/firstcry-com         39000000.0"
      ]
     },
     "execution_count": 70,
     "metadata": {},
     "output_type": "execute_result"
    }
   ],
   "source": [
    "#top company in 1st sector\n",
    "D2_company1[['company_permalink','raised_amount_usd']].groupby('company_permalink').sum().sort_values(by='raised_amount_usd',ascending=False).head(1)"
   ]
  },
  {
   "cell_type": "code",
   "execution_count": 71,
   "metadata": {
    "colab": {
     "base_uri": "https://localhost:8080/",
     "height": 111
    },
    "id": "PLN6dokjXJ7f",
    "outputId": "b3ee3b16-9e57-4416-9c77-9455409bd7ec"
   },
   "outputs": [
    {
     "data": {
      "text/html": [
       "<div>\n",
       "<style scoped>\n",
       "    .dataframe tbody tr th:only-of-type {\n",
       "        vertical-align: middle;\n",
       "    }\n",
       "\n",
       "    .dataframe tbody tr th {\n",
       "        vertical-align: top;\n",
       "    }\n",
       "\n",
       "    .dataframe thead th {\n",
       "        text-align: right;\n",
       "    }\n",
       "</style>\n",
       "<table border=\"1\" class=\"dataframe\">\n",
       "  <thead>\n",
       "    <tr style=\"text-align: right;\">\n",
       "      <th></th>\n",
       "      <th>raised_amount_usd</th>\n",
       "    </tr>\n",
       "    <tr>\n",
       "      <th>company_permalink</th>\n",
       "      <th></th>\n",
       "    </tr>\n",
       "  </thead>\n",
       "  <tbody>\n",
       "    <tr>\n",
       "      <th>/organization/gupshup-technology-india-pvt-ltd</th>\n",
       "      <td>33000000.0</td>\n",
       "    </tr>\n",
       "  </tbody>\n",
       "</table>\n",
       "</div>"
      ],
      "text/plain": [
       "                                                raised_amount_usd\n",
       "company_permalink                                                \n",
       "/organization/gupshup-technology-india-pvt-ltd         33000000.0"
      ]
     },
     "execution_count": 71,
     "metadata": {},
     "output_type": "execute_result"
    }
   ],
   "source": [
    "#top company in 2nd sector\n",
    "\n",
    "D2_company2[['company_permalink','raised_amount_usd']].groupby('company_permalink').sum().sort_values(by='raised_amount_usd',ascending=False).head(1)"
   ]
  },
  {
   "cell_type": "code",
   "execution_count": 72,
   "metadata": {
    "colab": {
     "base_uri": "https://localhost:8080/"
    },
    "id": "A0b2X_l7ZPox",
    "outputId": "6257cca0-d276-4f9d-e8fa-72ae86300f83"
   },
   "outputs": [
    {
     "name": "stdout",
     "output_type": "stream",
     "text": [
      "35821    FirstCry.com\n",
      "Name: name, dtype: object\n",
      "42473    GupShup\n",
      "Name: name, dtype: object\n"
     ]
    }
   ],
   "source": [
    "#company names\n",
    "print(D2[D2['company_permalink']=='/organization/firstcry-com'].name.head(1))\n",
    "print(D2[D2['company_permalink']=='/organization/gupshup-technology-india-pvt-ltd'].name.head(1))"
   ]
  },
  {
   "cell_type": "markdown",
   "metadata": {
    "id": "JYNAM-xSYch_"
   },
   "source": [
    "Sector Wise Analysis for C3=GBR"
   ]
  },
  {
   "cell_type": "code",
   "execution_count": 73,
   "metadata": {
    "colab": {
     "base_uri": "https://localhost:8080/",
     "height": 142
    },
    "id": "H6un0YObMI9n",
    "outputId": "49f3a473-96b2-4d24-c4bd-47ba04463cdc"
   },
   "outputs": [
    {
     "data": {
      "text/html": [
       "<div>\n",
       "<style scoped>\n",
       "    .dataframe tbody tr th:only-of-type {\n",
       "        vertical-align: middle;\n",
       "    }\n",
       "\n",
       "    .dataframe tbody tr th {\n",
       "        vertical-align: top;\n",
       "    }\n",
       "\n",
       "    .dataframe thead th {\n",
       "        text-align: right;\n",
       "    }\n",
       "</style>\n",
       "<table border=\"1\" class=\"dataframe\">\n",
       "  <thead>\n",
       "    <tr style=\"text-align: right;\">\n",
       "      <th></th>\n",
       "      <th>main_sector</th>\n",
       "      <th>raised_amount_usd</th>\n",
       "    </tr>\n",
       "  </thead>\n",
       "  <tbody>\n",
       "    <tr>\n",
       "      <th>0</th>\n",
       "      <td>Others</td>\n",
       "      <td>168</td>\n",
       "    </tr>\n",
       "    <tr>\n",
       "      <th>1</th>\n",
       "      <td>Cleantech / Semiconductors</td>\n",
       "      <td>161</td>\n",
       "    </tr>\n",
       "    <tr>\n",
       "      <th>2</th>\n",
       "      <td>Social, Finance, Analytics, Advertising</td>\n",
       "      <td>109</td>\n",
       "    </tr>\n",
       "  </tbody>\n",
       "</table>\n",
       "</div>"
      ],
      "text/plain": [
       "                               main_sector  raised_amount_usd\n",
       "0                                   Others                168\n",
       "1               Cleantech / Semiconductors                161\n",
       "2  Social, Finance, Analytics, Advertising                109"
      ]
     },
     "execution_count": 73,
     "metadata": {},
     "output_type": "execute_result"
    }
   ],
   "source": [
    "#dataframe for countwise data\n",
    "\n",
    "D3_Count=pd.DataFrame(D3[['main_sector','raised_amount_usd']].groupby('main_sector').count().sort_values(by='raised_amount_usd',ascending=False))\n",
    "D3_Count.reset_index(inplace=True)\n",
    "D3_Count.head(3)"
   ]
  },
  {
   "cell_type": "code",
   "execution_count": 74,
   "metadata": {
    "id": "V3mP8f9XXhts"
   },
   "outputs": [],
   "source": [
    "#Select Data for Top2 Sectors\n",
    "\n",
    "D3_company1=D3[D3['main_sector']=='Others']\n",
    "D3_company2=D3[D3['main_sector']=='Cleantech / Semiconductors']"
   ]
  },
  {
   "cell_type": "code",
   "execution_count": 75,
   "metadata": {
    "colab": {
     "base_uri": "https://localhost:8080/",
     "height": 111
    },
    "id": "rM9v_p2ZXhfK",
    "outputId": "e2defc00-5b44-46a5-fead-b62140e8f027"
   },
   "outputs": [
    {
     "data": {
      "text/html": [
       "<div>\n",
       "<style scoped>\n",
       "    .dataframe tbody tr th:only-of-type {\n",
       "        vertical-align: middle;\n",
       "    }\n",
       "\n",
       "    .dataframe tbody tr th {\n",
       "        vertical-align: top;\n",
       "    }\n",
       "\n",
       "    .dataframe thead th {\n",
       "        text-align: right;\n",
       "    }\n",
       "</style>\n",
       "<table border=\"1\" class=\"dataframe\">\n",
       "  <thead>\n",
       "    <tr style=\"text-align: right;\">\n",
       "      <th></th>\n",
       "      <th>raised_amount_usd</th>\n",
       "    </tr>\n",
       "    <tr>\n",
       "      <th>company_permalink</th>\n",
       "      <th></th>\n",
       "    </tr>\n",
       "  </thead>\n",
       "  <tbody>\n",
       "    <tr>\n",
       "      <th>/organization/ip-access</th>\n",
       "      <td>39683329.0</td>\n",
       "    </tr>\n",
       "  </tbody>\n",
       "</table>\n",
       "</div>"
      ],
      "text/plain": [
       "                         raised_amount_usd\n",
       "company_permalink                         \n",
       "/organization/ip-access         39683329.0"
      ]
     },
     "execution_count": 75,
     "metadata": {},
     "output_type": "execute_result"
    }
   ],
   "source": [
    "#top company in 1st sector\n",
    "\n",
    "D3_company1[['company_permalink','raised_amount_usd']].groupby('company_permalink').sum().sort_values(by='raised_amount_usd',ascending=False).head(1)"
   ]
  },
  {
   "cell_type": "code",
   "execution_count": 76,
   "metadata": {
    "colab": {
     "base_uri": "https://localhost:8080/",
     "height": 111
    },
    "id": "nm3aCLzmXhTC",
    "outputId": "c017a314-25ff-49d8-9703-3216467e8248"
   },
   "outputs": [
    {
     "data": {
      "text/html": [
       "<div>\n",
       "<style scoped>\n",
       "    .dataframe tbody tr th:only-of-type {\n",
       "        vertical-align: middle;\n",
       "    }\n",
       "\n",
       "    .dataframe tbody tr th {\n",
       "        vertical-align: top;\n",
       "    }\n",
       "\n",
       "    .dataframe thead th {\n",
       "        text-align: right;\n",
       "    }\n",
       "</style>\n",
       "<table border=\"1\" class=\"dataframe\">\n",
       "  <thead>\n",
       "    <tr style=\"text-align: right;\">\n",
       "      <th></th>\n",
       "      <th>raised_amount_usd</th>\n",
       "    </tr>\n",
       "    <tr>\n",
       "      <th>company_permalink</th>\n",
       "      <th></th>\n",
       "    </tr>\n",
       "  </thead>\n",
       "  <tbody>\n",
       "    <tr>\n",
       "      <th>/organization/eusa-pharma</th>\n",
       "      <td>35600000.0</td>\n",
       "    </tr>\n",
       "  </tbody>\n",
       "</table>\n",
       "</div>"
      ],
      "text/plain": [
       "                           raised_amount_usd\n",
       "company_permalink                           \n",
       "/organization/eusa-pharma         35600000.0"
      ]
     },
     "execution_count": 76,
     "metadata": {},
     "output_type": "execute_result"
    }
   ],
   "source": [
    "#top company in 2nd sector\n",
    "\n",
    "D3_company2[['company_permalink','raised_amount_usd']].groupby('company_permalink').sum().sort_values(by='raised_amount_usd',ascending=False).head(1)"
   ]
  },
  {
   "cell_type": "code",
   "execution_count": 77,
   "metadata": {
    "colab": {
     "base_uri": "https://localhost:8080/"
    },
    "id": "cXnDwcehRgtQ",
    "outputId": "086b8cbb-0864-4cab-e08d-24f9720b7848"
   },
   "outputs": [
    {
     "name": "stdout",
     "output_type": "stream",
     "text": [
      "49817    ip.access\n",
      "Name: name, dtype: object\n",
      "33169    EUSA Pharma\n",
      "Name: name, dtype: object\n"
     ]
    }
   ],
   "source": [
    "#name of companies\n",
    "print(D3[D3['company_permalink']=='/organization/ip-access'].name.head(1))\n",
    "print(D3[D3['company_permalink']=='/organization/eusa-pharma'].name.head(1))"
   ]
  },
  {
   "cell_type": "markdown",
   "metadata": {
    "id": "IdZbeJ1U3oZ6"
   },
   "source": [
    "Box Plot of Raised amount for different funding round types to get the representative amount of investment"
   ]
  },
  {
   "cell_type": "code",
   "execution_count": 102,
   "metadata": {
    "colab": {
     "base_uri": "https://localhost:8080/",
     "height": 586
    },
    "id": "sd9zDbfplUy3",
    "outputId": "a56be867-0b76-404d-b152-c53244423111"
   },
   "outputs": [
    {
     "data": {
      "image/png": "[encoded data removed]",
      "text/plain": [
       "<Figure size 1800x720 with 1 Axes>"
      ]
     },
     "metadata": {
      "needs_background": "light"
     },
     "output_type": "display_data"
    }
   ],
   "source": [
    "plt.figure(figsize=(25,10))\n",
    "sns.boxplot(masterspark['funding_round_type'],masterspark['raised_amount_usd'])\n",
    "plt.savefig('boxplot.png')\n",
    "plt.show()\n"
   ]
  },
  {
   "cell_type": "markdown",
   "metadata": {
    "id": "cdlhOHl03_Lr"
   },
   "source": [
    "From the above plot it can be seen that investment for private equite is well distributed. The 25th Percentile to 75th Percentile data is between 7 to 12/13 million. 50th Percentile is around 9 million. Since Sparkfund wants to invest between 5 to 15 million, Private Equity is the best sector to invest "
   ]
  },
  {
   "cell_type": "code",
   "execution_count": 79,
   "metadata": {
    "colab": {
     "base_uri": "https://localhost:8080/",
     "height": 328
    },
    "id": "aqdUfNKUl7om",
    "outputId": "7e0c6a8c-621d-449d-acc7-45f18d59d817"
   },
   "outputs": [
    {
     "data": {
      "text/html": [
       "<div>\n",
       "<style scoped>\n",
       "    .dataframe tbody tr th:only-of-type {\n",
       "        vertical-align: middle;\n",
       "    }\n",
       "\n",
       "    .dataframe tbody tr th {\n",
       "        vertical-align: top;\n",
       "    }\n",
       "\n",
       "    .dataframe thead th {\n",
       "        text-align: right;\n",
       "    }\n",
       "</style>\n",
       "<table border=\"1\" class=\"dataframe\">\n",
       "  <thead>\n",
       "    <tr style=\"text-align: right;\">\n",
       "      <th></th>\n",
       "      <th>country_code</th>\n",
       "      <th>raised_amount_usd</th>\n",
       "    </tr>\n",
       "  </thead>\n",
       "  <tbody>\n",
       "    <tr>\n",
       "      <th>0</th>\n",
       "      <td>USA</td>\n",
       "      <td>7.622128e+10</td>\n",
       "    </tr>\n",
       "    <tr>\n",
       "      <th>1</th>\n",
       "      <td>CHN</td>\n",
       "      <td>2.111665e+10</td>\n",
       "    </tr>\n",
       "    <tr>\n",
       "      <th>2</th>\n",
       "      <td>IND</td>\n",
       "      <td>6.547512e+09</td>\n",
       "    </tr>\n",
       "    <tr>\n",
       "      <th>3</th>\n",
       "      <td>GBR</td>\n",
       "      <td>5.536833e+09</td>\n",
       "    </tr>\n",
       "    <tr>\n",
       "      <th>4</th>\n",
       "      <td>RUS</td>\n",
       "      <td>3.261000e+09</td>\n",
       "    </tr>\n",
       "    <tr>\n",
       "      <th>5</th>\n",
       "      <td>CAN</td>\n",
       "      <td>2.993348e+09</td>\n",
       "    </tr>\n",
       "    <tr>\n",
       "      <th>6</th>\n",
       "      <td>NLD</td>\n",
       "      <td>2.032735e+09</td>\n",
       "    </tr>\n",
       "    <tr>\n",
       "      <th>7</th>\n",
       "      <td>BRA</td>\n",
       "      <td>2.014727e+09</td>\n",
       "    </tr>\n",
       "    <tr>\n",
       "      <th>8</th>\n",
       "      <td>DEU</td>\n",
       "      <td>2.001233e+09</td>\n",
       "    </tr>\n",
       "  </tbody>\n",
       "</table>\n",
       "</div>"
      ],
      "text/plain": [
       "  country_code  raised_amount_usd\n",
       "0          USA       7.622128e+10\n",
       "1          CHN       2.111665e+10\n",
       "2          IND       6.547512e+09\n",
       "3          GBR       5.536833e+09\n",
       "4          RUS       3.261000e+09\n",
       "5          CAN       2.993348e+09\n",
       "6          NLD       2.032735e+09\n",
       "7          BRA       2.014727e+09\n",
       "8          DEU       2.001233e+09"
      ]
     },
     "execution_count": 79,
     "metadata": {},
     "output_type": "execute_result"
    }
   ],
   "source": [
    "#check top9 dataframe\n",
    "top9"
   ]
  },
  {
   "cell_type": "markdown",
   "metadata": {
    "id": "9U0CabF74tCh"
   },
   "source": [
    "Barplot to show amount raised in top 9 countries. It also includes top 3 English speaking countries."
   ]
  },
  {
   "cell_type": "code",
   "execution_count": 103,
   "metadata": {
    "colab": {
     "base_uri": "https://localhost:8080/",
     "height": 400
    },
    "id": "MbsgkjTcnoVy",
    "outputId": "2a689174-28c6-445d-b9f2-529e3c4e860e"
   },
   "outputs": [
    {
     "data": {
      "image/png": "[encoded data removed]",
      "text/plain": [
       "<Figure size 720x432 with 1 Axes>"
      ]
     },
     "metadata": {
      "needs_background": "light"
     },
     "output_type": "display_data"
    }
   ],
   "source": [
    "plt.figure(figsize=(10,6))\n",
    "sns.barplot(data=top9, x=\"country_code\", y=\"raised_amount_usd\")\n",
    "plt.savefig('top.png')\n",
    "plt.show()"
   ]
  },
  {
   "cell_type": "markdown",
   "metadata": {
    "id": "XzfqodpS5Cpa"
   },
   "source": [
    "Plot number of investments in the top 3 sectors of the top 3 countries"
   ]
  },
  {
   "cell_type": "code",
   "execution_count": 81,
   "metadata": {
    "id": "Rc6tUB4iuUyF"
   },
   "outputs": [],
   "source": [
    "#Top 3 sectors in country 1\n",
    "D1_Top3=D1_Count.head(3)"
   ]
  },
  {
   "cell_type": "code",
   "execution_count": 82,
   "metadata": {
    "colab": {
     "base_uri": "https://localhost:8080/"
    },
    "id": "rZrwJ5S1vUx0",
    "outputId": "4e45a179-35c6-43ed-8b71-456d4d2c129a"
   },
   "outputs": [
    {
     "name": "stderr",
     "output_type": "stream",
     "text": [
      "C:\\ProgramData\\Anaconda3\\lib\\site-packages\\ipykernel_launcher.py:2: SettingWithCopyWarning: \n",
      "A value is trying to be set on a copy of a slice from a DataFrame.\n",
      "Try using .loc[row_indexer,col_indexer] = value instead\n",
      "\n",
      "See the caveats in the documentation: http://pandas.pydata.org/pandas-docs/stable/indexing.html#indexing-view-versus-copy\n",
      "  \n"
     ]
    }
   ],
   "source": [
    "#Add Country Name\n",
    "D1_Top3['Country']='USA'"
   ]
  },
  {
   "cell_type": "code",
   "execution_count": 83,
   "metadata": {
    "colab": {
     "base_uri": "https://localhost:8080/",
     "height": 142
    },
    "id": "oGx-nkmUvnL8",
    "outputId": "877be8fb-9ee4-4314-9df1-9a52a1ac01af"
   },
   "outputs": [
    {
     "data": {
      "text/html": [
       "<div>\n",
       "<style scoped>\n",
       "    .dataframe tbody tr th:only-of-type {\n",
       "        vertical-align: middle;\n",
       "    }\n",
       "\n",
       "    .dataframe tbody tr th {\n",
       "        vertical-align: top;\n",
       "    }\n",
       "\n",
       "    .dataframe thead th {\n",
       "        text-align: right;\n",
       "    }\n",
       "</style>\n",
       "<table border=\"1\" class=\"dataframe\">\n",
       "  <thead>\n",
       "    <tr style=\"text-align: right;\">\n",
       "      <th></th>\n",
       "      <th>main_sector</th>\n",
       "      <th>raised_amount_usd</th>\n",
       "      <th>Country</th>\n",
       "    </tr>\n",
       "  </thead>\n",
       "  <tbody>\n",
       "    <tr>\n",
       "      <th>0</th>\n",
       "      <td>Others</td>\n",
       "      <td>3267</td>\n",
       "      <td>USA</td>\n",
       "    </tr>\n",
       "    <tr>\n",
       "      <th>1</th>\n",
       "      <td>Cleantech / Semiconductors</td>\n",
       "      <td>2792</td>\n",
       "      <td>USA</td>\n",
       "    </tr>\n",
       "    <tr>\n",
       "      <th>2</th>\n",
       "      <td>Social, Finance, Analytics, Advertising</td>\n",
       "      <td>2086</td>\n",
       "      <td>USA</td>\n",
       "    </tr>\n",
       "  </tbody>\n",
       "</table>\n",
       "</div>"
      ],
      "text/plain": [
       "                               main_sector  raised_amount_usd Country\n",
       "0                                   Others               3267     USA\n",
       "1               Cleantech / Semiconductors               2792     USA\n",
       "2  Social, Finance, Analytics, Advertising               2086     USA"
      ]
     },
     "execution_count": 83,
     "metadata": {},
     "output_type": "execute_result"
    }
   ],
   "source": [
    "#check the data\n",
    "D1_Top3"
   ]
  },
  {
   "cell_type": "code",
   "execution_count": 84,
   "metadata": {
    "id": "q8t0hJq_vU_Q"
   },
   "outputs": [],
   "source": [
    "#Top 3 sectors in country 2\n",
    "D2_Top3=D2_Count.head(3)"
   ]
  },
  {
   "cell_type": "code",
   "execution_count": 85,
   "metadata": {
    "colab": {
     "base_uri": "https://localhost:8080/"
    },
    "id": "mw_qw2KJvWLL",
    "outputId": "262db365-a06b-45a4-9315-524445c24343"
   },
   "outputs": [
    {
     "name": "stderr",
     "output_type": "stream",
     "text": [
      "C:\\ProgramData\\Anaconda3\\lib\\site-packages\\ipykernel_launcher.py:2: SettingWithCopyWarning: \n",
      "A value is trying to be set on a copy of a slice from a DataFrame.\n",
      "Try using .loc[row_indexer,col_indexer] = value instead\n",
      "\n",
      "See the caveats in the documentation: http://pandas.pydata.org/pandas-docs/stable/indexing.html#indexing-view-versus-copy\n",
      "  \n"
     ]
    }
   ],
   "source": [
    "#Add Country 2\n",
    "D2_Top3['Country']='IND'"
   ]
  },
  {
   "cell_type": "code",
   "execution_count": 86,
   "metadata": {
    "colab": {
     "base_uri": "https://localhost:8080/",
     "height": 142
    },
    "id": "A_JJsHeRvy0S",
    "outputId": "58ed7036-a684-4f5a-a6d5-60d99d0440b9"
   },
   "outputs": [
    {
     "data": {
      "text/html": [
       "<div>\n",
       "<style scoped>\n",
       "    .dataframe tbody tr th:only-of-type {\n",
       "        vertical-align: middle;\n",
       "    }\n",
       "\n",
       "    .dataframe tbody tr th {\n",
       "        vertical-align: top;\n",
       "    }\n",
       "\n",
       "    .dataframe thead th {\n",
       "        text-align: right;\n",
       "    }\n",
       "</style>\n",
       "<table border=\"1\" class=\"dataframe\">\n",
       "  <thead>\n",
       "    <tr style=\"text-align: right;\">\n",
       "      <th></th>\n",
       "      <th>main_sector</th>\n",
       "      <th>raised_amount_usd</th>\n",
       "      <th>Country</th>\n",
       "    </tr>\n",
       "  </thead>\n",
       "  <tbody>\n",
       "    <tr>\n",
       "      <th>0</th>\n",
       "      <td>Others</td>\n",
       "      <td>115</td>\n",
       "      <td>IND</td>\n",
       "    </tr>\n",
       "    <tr>\n",
       "      <th>1</th>\n",
       "      <td>News, Search and Messaging</td>\n",
       "      <td>53</td>\n",
       "      <td>IND</td>\n",
       "    </tr>\n",
       "    <tr>\n",
       "      <th>2</th>\n",
       "      <td>Social, Finance, Analytics, Advertising</td>\n",
       "      <td>35</td>\n",
       "      <td>IND</td>\n",
       "    </tr>\n",
       "  </tbody>\n",
       "</table>\n",
       "</div>"
      ],
      "text/plain": [
       "                               main_sector  raised_amount_usd Country\n",
       "0                                   Others                115     IND\n",
       "1               News, Search and Messaging                 53     IND\n",
       "2  Social, Finance, Analytics, Advertising                 35     IND"
      ]
     },
     "execution_count": 86,
     "metadata": {},
     "output_type": "execute_result"
    }
   ],
   "source": [
    "#Check the data\n",
    "D2_Top3"
   ]
  },
  {
   "cell_type": "code",
   "execution_count": 87,
   "metadata": {
    "id": "k4t5dnWIqnSp"
   },
   "outputs": [],
   "source": [
    "#Top 3 sectors in country 3\n",
    "D3_Top3=D3_Count.head(3)"
   ]
  },
  {
   "cell_type": "code",
   "execution_count": 88,
   "metadata": {
    "colab": {
     "base_uri": "https://localhost:8080/"
    },
    "id": "PBf-a0P_v8VW",
    "outputId": "d948e3af-1a03-4fb1-dd23-79ed25991092"
   },
   "outputs": [
    {
     "name": "stderr",
     "output_type": "stream",
     "text": [
      "C:\\ProgramData\\Anaconda3\\lib\\site-packages\\ipykernel_launcher.py:2: SettingWithCopyWarning: \n",
      "A value is trying to be set on a copy of a slice from a DataFrame.\n",
      "Try using .loc[row_indexer,col_indexer] = value instead\n",
      "\n",
      "See the caveats in the documentation: http://pandas.pydata.org/pandas-docs/stable/indexing.html#indexing-view-versus-copy\n",
      "  \n"
     ]
    }
   ],
   "source": [
    "#add country Name\n",
    "D3_Top3['Country']='GBR'"
   ]
  },
  {
   "cell_type": "code",
   "execution_count": 89,
   "metadata": {
    "colab": {
     "base_uri": "https://localhost:8080/",
     "height": 142
    },
    "id": "Mp4uCcziwCDF",
    "outputId": "8e2e92c6-fd03-445a-de13-cf652263502a"
   },
   "outputs": [
    {
     "data": {
      "text/html": [
       "<div>\n",
       "<style scoped>\n",
       "    .dataframe tbody tr th:only-of-type {\n",
       "        vertical-align: middle;\n",
       "    }\n",
       "\n",
       "    .dataframe tbody tr th {\n",
       "        vertical-align: top;\n",
       "    }\n",
       "\n",
       "    .dataframe thead th {\n",
       "        text-align: right;\n",
       "    }\n",
       "</style>\n",
       "<table border=\"1\" class=\"dataframe\">\n",
       "  <thead>\n",
       "    <tr style=\"text-align: right;\">\n",
       "      <th></th>\n",
       "      <th>main_sector</th>\n",
       "      <th>raised_amount_usd</th>\n",
       "      <th>Country</th>\n",
       "    </tr>\n",
       "  </thead>\n",
       "  <tbody>\n",
       "    <tr>\n",
       "      <th>0</th>\n",
       "      <td>Others</td>\n",
       "      <td>168</td>\n",
       "      <td>GBR</td>\n",
       "    </tr>\n",
       "    <tr>\n",
       "      <th>1</th>\n",
       "      <td>Cleantech / Semiconductors</td>\n",
       "      <td>161</td>\n",
       "      <td>GBR</td>\n",
       "    </tr>\n",
       "    <tr>\n",
       "      <th>2</th>\n",
       "      <td>Social, Finance, Analytics, Advertising</td>\n",
       "      <td>109</td>\n",
       "      <td>GBR</td>\n",
       "    </tr>\n",
       "  </tbody>\n",
       "</table>\n",
       "</div>"
      ],
      "text/plain": [
       "                               main_sector  raised_amount_usd Country\n",
       "0                                   Others                168     GBR\n",
       "1               Cleantech / Semiconductors                161     GBR\n",
       "2  Social, Finance, Analytics, Advertising                109     GBR"
      ]
     },
     "execution_count": 89,
     "metadata": {},
     "output_type": "execute_result"
    }
   ],
   "source": [
    "#check the data\n",
    "D3_Top3"
   ]
  },
  {
   "cell_type": "code",
   "execution_count": 90,
   "metadata": {
    "id": "OrjV2UxwwEXf"
   },
   "outputs": [],
   "source": [
    "#concatenate all the 3 dataframe in a single dataframe\n",
    "Count_Top3=pd.concat([D1_Top3, D2_Top3,D3_Top3], axis = 0)"
   ]
  },
  {
   "cell_type": "code",
   "execution_count": 91,
   "metadata": {
    "id": "O-Ls71YBwUrI"
   },
   "outputs": [],
   "source": [
    "#reset the index\n",
    "Count_Top3.reset_index(inplace=True)"
   ]
  },
  {
   "cell_type": "code",
   "execution_count": 92,
   "metadata": {
    "id": "rF9LMP2BwZqw"
   },
   "outputs": [],
   "source": [
    "#drop column named index from new dataframe\n",
    "Count_Top3.drop('index',axis=1,inplace=True)"
   ]
  },
  {
   "cell_type": "code",
   "execution_count": 93,
   "metadata": {
    "id": "gpa5tLoWwqsO"
   },
   "outputs": [],
   "source": [
    "#rename column\n",
    "Count_Top3.rename(columns={'raised_amount_usd':'Count'},inplace=True)"
   ]
  },
  {
   "cell_type": "code",
   "execution_count": 94,
   "metadata": {
    "colab": {
     "base_uri": "https://localhost:8080/",
     "height": 328
    },
    "id": "9UPHrzJIxSAW",
    "outputId": "0463dc2f-8600-4c6e-b300-ef1e147b2012"
   },
   "outputs": [
    {
     "data": {
      "text/html": [
       "<div>\n",
       "<style scoped>\n",
       "    .dataframe tbody tr th:only-of-type {\n",
       "        vertical-align: middle;\n",
       "    }\n",
       "\n",
       "    .dataframe tbody tr th {\n",
       "        vertical-align: top;\n",
       "    }\n",
       "\n",
       "    .dataframe thead th {\n",
       "        text-align: right;\n",
       "    }\n",
       "</style>\n",
       "<table border=\"1\" class=\"dataframe\">\n",
       "  <thead>\n",
       "    <tr style=\"text-align: right;\">\n",
       "      <th></th>\n",
       "      <th>main_sector</th>\n",
       "      <th>Count</th>\n",
       "      <th>Country</th>\n",
       "    </tr>\n",
       "  </thead>\n",
       "  <tbody>\n",
       "    <tr>\n",
       "      <th>0</th>\n",
       "      <td>Others</td>\n",
       "      <td>3267</td>\n",
       "      <td>USA</td>\n",
       "    </tr>\n",
       "    <tr>\n",
       "      <th>1</th>\n",
       "      <td>Cleantech / Semiconductors</td>\n",
       "      <td>2792</td>\n",
       "      <td>USA</td>\n",
       "    </tr>\n",
       "    <tr>\n",
       "      <th>2</th>\n",
       "      <td>Social, Finance, Analytics, Advertising</td>\n",
       "      <td>2086</td>\n",
       "      <td>USA</td>\n",
       "    </tr>\n",
       "    <tr>\n",
       "      <th>3</th>\n",
       "      <td>Others</td>\n",
       "      <td>115</td>\n",
       "      <td>IND</td>\n",
       "    </tr>\n",
       "    <tr>\n",
       "      <th>4</th>\n",
       "      <td>News, Search and Messaging</td>\n",
       "      <td>53</td>\n",
       "      <td>IND</td>\n",
       "    </tr>\n",
       "    <tr>\n",
       "      <th>5</th>\n",
       "      <td>Social, Finance, Analytics, Advertising</td>\n",
       "      <td>35</td>\n",
       "      <td>IND</td>\n",
       "    </tr>\n",
       "    <tr>\n",
       "      <th>6</th>\n",
       "      <td>Others</td>\n",
       "      <td>168</td>\n",
       "      <td>GBR</td>\n",
       "    </tr>\n",
       "    <tr>\n",
       "      <th>7</th>\n",
       "      <td>Cleantech / Semiconductors</td>\n",
       "      <td>161</td>\n",
       "      <td>GBR</td>\n",
       "    </tr>\n",
       "    <tr>\n",
       "      <th>8</th>\n",
       "      <td>Social, Finance, Analytics, Advertising</td>\n",
       "      <td>109</td>\n",
       "      <td>GBR</td>\n",
       "    </tr>\n",
       "  </tbody>\n",
       "</table>\n",
       "</div>"
      ],
      "text/plain": [
       "                               main_sector  Count Country\n",
       "0                                   Others   3267     USA\n",
       "1               Cleantech / Semiconductors   2792     USA\n",
       "2  Social, Finance, Analytics, Advertising   2086     USA\n",
       "3                                   Others    115     IND\n",
       "4               News, Search and Messaging     53     IND\n",
       "5  Social, Finance, Analytics, Advertising     35     IND\n",
       "6                                   Others    168     GBR\n",
       "7               Cleantech / Semiconductors    161     GBR\n",
       "8  Social, Finance, Analytics, Advertising    109     GBR"
      ]
     },
     "execution_count": 94,
     "metadata": {},
     "output_type": "execute_result"
    }
   ],
   "source": [
    "#check the dataframe\n",
    "Count_Top3"
   ]
  },
  {
   "cell_type": "markdown",
   "metadata": {
    "id": "Ko4xiTxe6H7y"
   },
   "source": [
    "Make a box plot to show the comparison of number of investments in top 3 sectors of top3 English speaking countries. "
   ]
  },
  {
   "cell_type": "code",
   "execution_count": 104,
   "metadata": {
    "colab": {
     "base_uri": "https://localhost:8080/",
     "height": 388
    },
    "id": "hrDtgcIdxhLK",
    "outputId": "df8a4fa2-fe07-4fa8-e439-4ac4414e1512"
   },
   "outputs": [
    {
     "data": {
      "image/png": "[encoded data removed]",
      "text/plain": [
       "<Figure size 720x432 with 1 Axes>"
      ]
     },
     "metadata": {
      "needs_background": "light"
     },
     "output_type": "display_data"
    }
   ],
   "source": [
    "plt.figure(figsize=(10, 6))\n",
    "sns.barplot(data=Count_Top3,y='Country', x='Count', hue=\"main_sector\")\n",
    "plt.savefig('top3.png')\n",
    "plt.show()"
   ]
  },
  {
   "cell_type": "code",
   "execution_count": null,
   "metadata": {},
   "outputs": [],
   "source": []
  }
 ],
 "metadata": {
  "colab": {
   "collapsed_sections": [],
   "name": "Investment Analysis.ipynb",
   "provenance": []
  },
  "kernelspec": {
   "display_name": "Python 3",
   "language": "python",
   "name": "python3"
  },
  "language_info": {
   "codemirror_mode": {
    "name": "ipython",
    "version": 3
   },
   "file_extension": ".py",
   "mimetype": "text/x-python",
   "name": "python",
   "nbconvert_exporter": "python",
   "pygments_lexer": "ipython3",
   "version": "3.7.1"
  }
 },
 "nbformat": 4,
 "nbformat_minor": 1
}
